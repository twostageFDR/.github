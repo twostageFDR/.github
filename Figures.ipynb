{
 "cells": [
  {
   "cell_type": "markdown",
   "id": "13302e49-7779-4553-8409-a93a1be0a304",
   "metadata": {},
   "source": [
    "# Figures\n",
    "* Assume that [set4delta.csv] file is located in the same directory.\n",
    "* \"datacall.r\" file preprocess the [set4delta.csv] dataset. (source(\"datacall.r\") would take few minutes)"
   ]
  },
  {
   "cell_type": "code",
   "execution_count": 52,
   "id": "56039b8f-e096-4151-8ddc-cab0752096c0",
   "metadata": {},
   "outputs": [
    {
     "name": "stderr",
     "output_type": "stream",
     "text": [
      "Warning message in locfdr(trndat, plot = 0, type = 0, bre = 1000):\n",
      "“f(z) misfit = 1.6.  Rerun with increased df”\n",
      "Loading required package: S4Vectors\n",
      "\n",
      "Loading required package: stats4\n",
      "\n",
      "Loading required package: BiocGenerics\n",
      "\n",
      "\n",
      "Attaching package: ‘BiocGenerics’\n",
      "\n",
      "\n",
      "The following objects are masked from ‘package:stats’:\n",
      "\n",
      "    IQR, mad, sd, var, xtabs\n",
      "\n",
      "\n",
      "The following objects are masked from ‘package:base’:\n",
      "\n",
      "    anyDuplicated, aperm, append, as.data.frame, basename, cbind,\n",
      "    colnames, dirname, do.call, duplicated, eval, evalq, Filter, Find,\n",
      "    get, grep, grepl, intersect, is.unsorted, lapply, Map, mapply,\n",
      "    match, mget, order, paste, pmax, pmax.int, pmin, pmin.int,\n",
      "    Position, rank, rbind, Reduce, rownames, sapply, setdiff, table,\n",
      "    tapply, union, unique, unsplit, which.max, which.min\n",
      "\n",
      "\n",
      "\n",
      "Attaching package: ‘S4Vectors’\n",
      "\n",
      "\n",
      "The following object is masked from ‘package:utils’:\n",
      "\n",
      "    findMatches\n",
      "\n",
      "\n",
      "The following objects are masked from ‘package:base’:\n",
      "\n",
      "    expand.grid, I, unname\n",
      "\n",
      "\n",
      "Loading required package: IRanges\n",
      "\n",
      "Loading required package: GenomicRanges\n",
      "\n",
      "Loading required package: GenomeInfoDb\n",
      "\n",
      "Loading required package: SummarizedExperiment\n",
      "\n",
      "Loading required package: MatrixGenerics\n",
      "\n",
      "Loading required package: matrixStats\n",
      "\n",
      "\n",
      "Attaching package: ‘matrixStats’\n",
      "\n",
      "\n",
      "The following object is masked from ‘package:EnvStats’:\n",
      "\n",
      "    iqr\n",
      "\n",
      "\n",
      "\n",
      "Attaching package: ‘MatrixGenerics’\n",
      "\n",
      "\n",
      "The following objects are masked from ‘package:matrixStats’:\n",
      "\n",
      "    colAlls, colAnyNAs, colAnys, colAvgsPerRowSet, colCollapse,\n",
      "    colCounts, colCummaxs, colCummins, colCumprods, colCumsums,\n",
      "    colDiffs, colIQRDiffs, colIQRs, colLogSumExps, colMadDiffs,\n",
      "    colMads, colMaxs, colMeans2, colMedians, colMins, colOrderStats,\n",
      "    colProds, colQuantiles, colRanges, colRanks, colSdDiffs, colSds,\n",
      "    colSums2, colTabulates, colVarDiffs, colVars, colWeightedMads,\n",
      "    colWeightedMeans, colWeightedMedians, colWeightedSds,\n",
      "    colWeightedVars, rowAlls, rowAnyNAs, rowAnys, rowAvgsPerColSet,\n",
      "    rowCollapse, rowCounts, rowCummaxs, rowCummins, rowCumprods,\n",
      "    rowCumsums, rowDiffs, rowIQRDiffs, rowIQRs, rowLogSumExps,\n",
      "    rowMadDiffs, rowMads, rowMaxs, rowMeans2, rowMedians, rowMins,\n",
      "    rowOrderStats, rowProds, rowQuantiles, rowRanges, rowRanks,\n",
      "    rowSdDiffs, rowSds, rowSums2, rowTabulates, rowVarDiffs, rowVars,\n",
      "    rowWeightedMads, rowWeightedMeans, rowWeightedMedians,\n",
      "    rowWeightedSds, rowWeightedVars\n",
      "\n",
      "\n",
      "Loading required package: Biobase\n",
      "\n",
      "Welcome to Bioconductor\n",
      "\n",
      "    Vignettes contain introductory material; view with\n",
      "    'browseVignettes()'. To cite Bioconductor, see\n",
      "    'citation(\"Biobase\")', and for packages 'citation(\"pkgname\")'.\n",
      "\n",
      "\n",
      "\n",
      "Attaching package: ‘Biobase’\n",
      "\n",
      "\n",
      "The following object is masked from ‘package:MatrixGenerics’:\n",
      "\n",
      "    rowMedians\n",
      "\n",
      "\n",
      "The following objects are masked from ‘package:matrixStats’:\n",
      "\n",
      "    anyMissing, rowMedians\n",
      "\n",
      "\n",
      "converting counts to integer mode\n",
      "\n",
      "estimating size factors\n",
      "\n",
      "estimating dispersions\n",
      "\n",
      "gene-wise dispersion estimates\n",
      "\n",
      "mean-dispersion relationship\n",
      "\n",
      "final dispersion estimates\n",
      "\n",
      "fitting model and testing\n",
      "\n"
     ]
    }
   ],
   "source": [
    "source(\"simulation.r\")\n",
    "source(\"datacall.r\")"
   ]
  },
  {
   "cell_type": "markdown",
   "id": "dc1b39c3-57c3-4969-a078-fcfe9300d8b7",
   "metadata": {},
   "source": [
    "### Figures in the main text"
   ]
  },
  {
   "cell_type": "markdown",
   "id": "babb9372-584f-4413-b750-02239a69c3c3",
   "metadata": {},
   "source": [
    "#### Figure 1 : The histograms show that the distributions of (A) the logfold changes and (b) their estimated standard deviations."
   ]
  },
  {
   "cell_type": "code",
   "execution_count": 19,
   "id": "59c44cbb-4610-4f89-87aa-6d5fea8e35db",
   "metadata": {},
   "outputs": [
    {
     "data": {
      "text/html": [
       "<strong>png:</strong> 2"
      ],
      "text/latex": [
       "\\textbf{png:} 2"
      ],
      "text/markdown": [
       "**png:** 2"
      ],
      "text/plain": [
       "png \n",
       "  2 "
      ]
     },
     "metadata": {},
     "output_type": "display_data"
    }
   ],
   "source": [
    "pdf(\"Figure1.pdf\", width = 14, height = 6)\n",
    "par(mfrow = c(1,2))\n",
    "hist(lfc, border = \"grey\", xlab = \"\", main = \"\", ylab = \"\")\n",
    "title(\"(A) Logfold changes\", adj = 0, cex.main = 1.2)\n",
    "hist(log(lfc_sd), border = \"grey\", xlab = \"\", main = \"\", ylab = \"\")\n",
    "title(\"(B) Standard deviation of logfold changes(log-scale)\", adj = 0, cex.main = 1.2)\n",
    "dev.off()"
   ]
  },
  {
   "cell_type": "markdown",
   "id": "fd6a5f73-43f1-4cea-90f5-a59594a7f625",
   "metadata": {},
   "source": [
    "#### Figure 2: Comparison of p-value distributions: (A) p-values generated symmetrically around 0.5, and (B) p-values generated from Set4$\\Delta$ data"
   ]
  },
  {
   "cell_type": "code",
   "execution_count": 20,
   "id": "e74b10be-cfa4-46a4-b608-bd708d9f8199",
   "metadata": {},
   "outputs": [
    {
     "data": {
      "text/html": [
       "<strong>png:</strong> 2"
      ],
      "text/latex": [
       "\\textbf{png:} 2"
      ],
      "text/markdown": [
       "**png:** 2"
      ],
      "text/plain": [
       "png \n",
       "  2 "
      ]
     },
     "metadata": {},
     "output_type": "display_data"
    }
   ],
   "source": [
    "fake1 = runif(floor(n*0.95))\n",
    "fake11 = runif(n - floor(n*0.95))\n",
    "fake2 = (runif(floor(n*0.95))-0.5)*runif(floor(n*0.95)) + 0.5\n",
    "fake22 = runif(n -floor(n*0.95), 0, 0.5)*runif(n -floor(n*0.95))\n",
    "\n",
    "\n",
    "pdf(\"Figure2.pdf\", height = 9, width = 15)\n",
    "par(pch = 19, col = rgb(0.4, 0.4, 0.4, 0.15))\n",
    "par(mfrow = c(1,2))\n",
    "plot(fake1, fake2, xlab = \"Auxiliary p-values\", ylab = \"Primary p-values\")\n",
    "title(\"(A) p-values Generated Symmetrically around 0.5\",cex.main = 1.5, adj = 0)\n",
    "points(fake11, fake22, col = rgb(0.9, 0, 0, 0.3))\n",
    "abline(h = 0.5, lty = \"dashed\", lwd = 2, col = \"black\")\n",
    "\n",
    "plot(pval1, pval2,  ylab = \"Primary p-values (logfold changes)\", xlab = \"Auxiliary p-values (standard deviation of logfold changes)\")\n",
    "title(\"(B) p-values Generated by Real Data\", cex.main = 1.5, adj = 0)\n",
    "\n",
    "dev.off()"
   ]
  },
  {
   "cell_type": "markdown",
   "id": "4a93b7a0-defa-4367-9e04-c2ccdd60b2b2",
   "metadata": {},
   "source": [
    "#### Figure 3: pi’s for two-stage procedures (A),(B) of two-stage FDR(H) and (C) of two-stage FDR(S). In (A), pH i with the threshold γ1 = 0.9 and (B) with the threshold γ1 = 0.7\n"
   ]
  },
  {
   "cell_type": "code",
   "execution_count": 21,
   "id": "ab41468a-8a9c-4a3d-bd28-440c04c9cad6",
   "metadata": {},
   "outputs": [
    {
     "data": {
      "text/html": [
       "<strong>png:</strong> 2"
      ],
      "text/latex": [
       "\\textbf{png:} 2"
      ],
      "text/markdown": [
       "**png:** 2"
      ],
      "text/plain": [
       "png \n",
       "  2 "
      ]
     },
     "metadata": {},
     "output_type": "display_data"
    }
   ],
   "source": [
    "cop = BiCop(23, tau = -0.4)\n",
    "\n",
    "set.seed(1)\n",
    "r = BiCopSim(n, obj = cop)\n",
    "\n",
    "## pval H with gamma = 0.6\n",
    "gamma = 0.9\n",
    "r22 = BiCopCDF(rep(gamma, n), r[,2], obj = cop)\n",
    "pv = ifelse(r[,1]>gamma, r[,1], r22)\n",
    "max1 = max(r[pv<0.05,2])\n",
    "max12 = max(r[pv<0.03,2])\n",
    "\n",
    "\n",
    "## pval H with gamma = 0.8\n",
    "gamma = 0.7\n",
    "r22 = BiCopCDF(rep(gamma, n), r[,2], obj = cop)\n",
    "pv2 = ifelse(r[,1]>gamma, r[,1], r22)\n",
    "max2 = max(r[pv2<0.05,2])\n",
    "max22 = max(r[pv2<0.03,2])\n",
    "\n",
    "\n",
    "## pval S\n",
    "pv3 = BiCopHfunc1(r[,1], r[,2], obj = cop)\n",
    "seqq = seq(0,1,0.01)\n",
    "max3 = BiCopHinv1(seqq, rep(0.05,length(seqq)), obj = cop)\n",
    "max32 = BiCopHinv1(seqq, rep(0.03,length(seqq)), obj = cop)\n",
    "\n",
    "\n",
    "\n",
    "\n",
    "lightsteelblue = as.vector(col2rgb(\"lightsteelblue\")/255)\n",
    "cr = lightsteelblue[1]\n",
    "cg = lightsteelblue[2]\n",
    "cb = lightsteelblue[3]\n",
    "\n",
    "steelblue = as.vector(col2rgb(\"steelblue\")/255)\n",
    "cr2 = steelblue[1]\n",
    "cg2 = steelblue[2]\n",
    "cb2 = steelblue[3]\n",
    "\n",
    "pdf(\"Figure3.pdf\", height = 8.5, width = 20)\n",
    "par(pch = 19, col = \"#DDDDDD\", mfrow = c(1,3))\n",
    "plot(r, xlab = \"\", ylab = \"\")\n",
    "title(\"(A)\", adj = 0, cex.main = 3)\n",
    "polygon(c(0,0.9,0.9,0), c(0,0,max1, max1), col = rgb(cr, cg, cb, 0.2), border =  rgb(cr, cg, cb, 0.8))\n",
    "polygon(c(0,0.9,0.9,0), c(0,0,max12, max12), col = rgb(cr2, cg2, cb2, 0.2), border =  rgb(cr2, cg2, cb2, 0.8))\n",
    "points(c(0.4,0.8,0.1),c(0.1,0.1,0.143), pch = 4, col = 'black', cex = 2, lwd = 2)\n",
    "text(c(0.4,0.8,0.1),c(0.1,0.1,0.143), c(\"A\",\"B\",\"C\"), pos = 3, col = \"black\", cex = 2, offset = 1)\n",
    "\n",
    "plot(r, xlab = \"\", ylab = \"\")\n",
    "title(\"(B)\", adj = 0, cex.main = 3)\n",
    "polygon(c(0,0.7,0.7,0), c(0,0,max2, max2), col = rgb(cr, cg, cb, 0.2), border =  rgb(cr, cg, cb, 0.8))\n",
    "polygon(c(0,0.7,0.7,0), c(0,0,max22, max22), col = rgb(cr2, cg2, cb2, 0.2), border =  rgb(cr2, cg2, cb2, 0.8))\n",
    "points(c(0.4,0.8,0.1),c(0.1,0.1,0.143), pch = 4, col = 'black', cex = 2, lwd = 2)\n",
    "text(c(0.4,0.8,0.1),c(0.1,0.1,0.143), c(\"A\",\"B\",\"C\"), pos = 3, col = \"black\", cex = 2, offset = 1)\n",
    "\n",
    "\n",
    "plot(r, xlab = \"\", ylab = \"\")\n",
    "title(\"(C)\", adj = 0, cex.main = 3)\n",
    "polygon(c(0,seqq), c(0, max3), col = rgb(cr, cg, cb, 0.2), border =  rgb(cr, cg, cb, 0.8))\n",
    "polygon(c(0,seqq), c(0, max32), col = rgb(cr2, cg2, cb2, 0.2), border =  rgb(cr2, cg2, cb2, 0.8))\n",
    "points(c(0.4,0.8,0.1),c(0.1,0.1,0.143), pch = 4, col = 'black', cex = 2, lwd = 2)\n",
    "text(c(0.4,0.8,0.1),c(0.1,0.1,0.143), c(\"A\",\"B\",\"C\"), pos = 3, col = \"black\", cex = 2, offset = 1)\n",
    "\n",
    "\n",
    "dev.off()"
   ]
  },
  {
   "cell_type": "markdown",
   "id": "916cf44e-4620-4572-85f5-529f6c4672d7",
   "metadata": {},
   "source": [
    "#### Figure 4: Selection of γ in two-stage FDR(H). The x-axis displays γ and the y-axis represents the corresponding number of rejection with two-stage FDR(H)."
   ]
  },
  {
   "cell_type": "code",
   "execution_count": 29,
   "id": "a69f4551-8684-46b4-94ce-0aabe1df7d14",
   "metadata": {},
   "outputs": [
    {
     "data": {
      "text/html": [
       "<strong>png:</strong> 2"
      ],
      "text/latex": [
       "\\textbf{png:} 2"
      ],
      "text/markdown": [
       "**png:** 2"
      ],
      "text/plain": [
       "png \n",
       "  2 "
      ]
     },
     "metadata": {},
     "output_type": "display_data"
    }
   ],
   "source": [
    "gammaseq = seq(0.5,1,0.001)\n",
    "n = nrow(file)\n",
    "nrej = sapply(gammaseq, function(x){\n",
    "  pv = BiCopCDF(rep(x, n), pval2, obj = cop)\n",
    "  pvalH = ifelse(pval1>x, pval1, pv)\n",
    "  p0hat = pi_01(pvalH)\n",
    "  false_H = rank(pvalH)\n",
    "  rej_H = (p0hat*n*pvalH/false_H<0.05)\n",
    "  return(sum(rej_H))\n",
    "})\n",
    "\n",
    "\n",
    "\n",
    "pdf(\"Figure4.pdf\", width = 8.3, height = 6.6)\n",
    "par(mfrow = c(1,1), pch = 19)\n",
    "plot(gammaseq, nrej, type = \"b\", col = \"grey\", cex = 0.9, xlab = \"\", ylab = \"\")\n",
    "abline(v = gammaseq[which.max(nrej)], lty = \"dashed\", col = \"red\")\n",
    "mtext(gammaseq[which.max(nrej)], 1, at = c(gammaseq[which.max(nrej)]*0.99, -1), cex = 0.85)\n",
    "dev.off()"
   ]
  },
  {
   "cell_type": "markdown",
   "id": "58bf4c72-9a21-45a0-a5c7-d8e4f9198895",
   "metadata": {},
   "source": [
    "#### Figure 5: Comparison of Rejection Regions: One-Stage vs. Two-Stage FDR Methods. "
   ]
  },
  {
   "cell_type": "code",
   "execution_count": 34,
   "id": "cb2118cc-7c84-4e70-a8f3-14568cd7462b",
   "metadata": {},
   "outputs": [
    {
     "data": {
      "text/html": [
       "0.987"
      ],
      "text/latex": [
       "0.987"
      ],
      "text/markdown": [
       "0.987"
      ],
      "text/plain": [
       "[1] 0.987"
      ]
     },
     "metadata": {},
     "output_type": "display_data"
    }
   ],
   "source": [
    "## locfdr\n",
    "rej_locfdr = (p0hat*f0/f < 0.05)\n",
    "rej_locfdr2 = (p0hat*f0/f < 0.1)\n",
    "\n",
    "\n",
    "## Storey\n",
    "p0 = pi_01(pval2)\n",
    "rej_Storey = (p0*n*pval2/rank(pval2) <0.05)\n",
    "rej_Storey2 = (p0*n*pval2/rank(pval2) <0.1)\n",
    "\n",
    "## Two-stage (H)\n",
    "gamma_seq = seq(0.5,1,0.001)\n",
    "tau = wdm(pval1, pval2, \"kendall\")\n",
    "cop = BiCop(23, tau = tau)\n",
    "\n",
    "nrej = sapply(gamma_seq, function(x){\n",
    "  pv = BiCopCDF(rep(x, n), pval2, obj = cop)\n",
    "  pv = ifelse(pval1>x, pval1, pv)\n",
    "  p0 = pi_01(pv)\n",
    "  nr =  sum(p0*n*pv/rank(pv) <0.10)\n",
    "  return(nr)\n",
    "})\n",
    "\n",
    "\n",
    "gamma = gamma_seq[which.max(nrej)]; gamma\n",
    "\n",
    "pv = BiCopCDF(rep(gamma, n), pval2, obj = cop)\n",
    "pval_H = ifelse(pval1>gamma, pval1, pv)\n",
    "p0 = pi_01(pval_H)\n",
    "rej_H = (p0*n*pval_H/rank(pval_H) <0.05)\n",
    "rej_H2 = (p0*n*pval_H/rank(pval_H) <0.10)\n",
    "\n",
    "## Two-stage (S)\n",
    "pval_S = BiCopHfunc1(pval1, pval2, obj = cop)\n",
    "p0hat = pi_01(pval_S)\n",
    "rej_S2 = (p0hat*n*pval_S/rank(pval_S) <0.10)\n",
    "rej_S = (p0hat*n*pval_S/rank(pval_S) <0.05)"
   ]
  },
  {
   "cell_type": "code",
   "execution_count": 35,
   "id": "c400b307-37ee-4bdb-8b77-0fa73f06c38a",
   "metadata": {},
   "outputs": [
    {
     "name": "stdout",
     "output_type": "stream",
     "text": [
      "[1] \"its 3\"\n"
     ]
    },
    {
     "data": {
      "text/html": [
       "<strong>png:</strong> 2"
      ],
      "text/latex": [
       "\\textbf{png:} 2"
      ],
      "text/markdown": [
       "**png:** 2"
      ],
      "text/plain": [
       "png \n",
       "  2 "
      ]
     },
     "metadata": {},
     "output_type": "display_data"
    }
   ],
   "source": [
    "rejset = cbind(rej_locfdr, rej_Storey, rej_H, rej_S)\n",
    "rejset2 = cbind(rej_locfdr2 & !rej_locfdr, rej_Storey2 & !rej_Storey, rej_H2 & !rej_H, rej_S2 & !rej_S)\n",
    "\n",
    "rejhxt = apply(rejset, 2, function(x) x & ishxt)\n",
    "rejhxt2 = apply(rejset2, 2, function(x) x & ishxt)\n",
    "rejno = apply(rejset, 2, function(x) !x & ishxt)\n",
    "rejno2 = apply(rejset2, 2, function(x) !x & ishxt)\n",
    "\n",
    "\n",
    "subtitle = c(\"(A) One-stage (locfdr)\", \"(B) One-stage (Storey)\", \"(C) Two-stage (H)\", \"(D) Two-stage (S)\")\n",
    "\n",
    "pdf(\"Figure5.pdf\", height = 10, width = 10)\n",
    "par(pch = 19, col = \"lightgrey\", mfrow = c(2,2))\n",
    "for(i in 1:4){\n",
    "  plot(log(lfc_sd), lfc, xlab = \"\", ylab = \"\", cex.axis = 2)\n",
    "  points(log(lfc_sd)[rejset[,i]], lfc[rejset[,i]], col = \"lightsteelblue\")\n",
    "  points(log(lfc_sd)[rejset2[,i]], lfc[rejset2[,i]], col = \"steelblue\")\n",
    "  if(i %in% c(1,2)){\n",
    "    abline(h = min(lfc[lfc>0 & rejset[,i]]), col = \"lightsteelblue\", lwd = 0.5, lty = 2)\n",
    "    abline(h = min(lfc[lfc>0 & rejset2[,i]]), col = \"lightsteelblue\", lwd = 0.5, lty = 2)\n",
    "    \n",
    "    abline(h = max(lfc[lfc<0 & rejset[,i]]), col = \"lightsteelblue\", lwd = 0.5, lty = 2)\n",
    "    abline(h = max(lfc[lfc<0 & rejset2[,i]]), col = \"lightsteelblue\", lwd = 0.5, lty = 2)\n",
    "  }else if(i == c(3)){\n",
    "    kk = 3\n",
    "    print(\"its 3\")\n",
    "    vv = max(log(lfc_sd[rejset[,i]]))\n",
    "    vv2 = max(log(lfc_sd[rejset2[,i]]))\n",
    "    abline(v = vv, col = 'lightsteelblue', lwd = 0.5, lty = 2)\n",
    "    abline(v = vv2, col = 'lightsteelblue', lwd = 0.5, lty = 2)\n",
    "    abline(h = min(lfc[lfc>0 & rejset[,i]]), col = \"lightsteelblue\", lwd = 0.5, lty = 2)\n",
    "    abline(h = min(lfc[lfc>0 & rejset2[,i]]), col = \"lightsteelblue\", lwd = 0.5, lty = 2)\n",
    "    \n",
    "    abline(h = max(lfc[lfc<0 & rejset[,i]]), col = \"lightsteelblue\", lwd = 0.5, lty = 2)\n",
    "    abline(h = max(lfc[lfc<0 & rejset2[,i]]), col = \"lightsteelblue\", lwd = 0.5, lty = 2)\n",
    "  }else{\n",
    "    seqq = quantile(lfc_sd[rej_S], seq(0.05,1,by = 0.05))\n",
    "    rejlfc = lfc[rej_S]\n",
    "    rejsd = lfc_sd[rej_S]\n",
    "    yseq1 = rep(0.0, length(seqq)-1)\n",
    "    xseq1 = rep(0.0, length(seqq)-1)\n",
    "    yseq2 = rep(0.0, length(seqq)-1)\n",
    "    xseq2 = rep(0.0, length(seqq)-1)\n",
    "    for(k in 2:length(seqq)){\n",
    "      locc = (rejsd < seqq[k] & rejsd>seqq[k-1] & rejlfc>0)\n",
    "      yseq1[k-1] = min(rejlfc[locc])\n",
    "      loc.x = which.min(rejlfc[locc])\n",
    "      xseq1[k-1] = rejsd[locc][loc.x]\n",
    "      \n",
    "      locc = (rejsd < seqq[k] & rejsd>seqq[k-1] & rejlfc<0)\n",
    "      yseq2[k-1] = max(rejlfc[locc])\n",
    "      loc.x = which.max(rejlfc[locc])\n",
    "      xseq2[k-1] = rejsd[locc][loc.x]\n",
    "    }\n",
    "    lines(log(xseq1), yseq1, col = \"lightsteelblue\")\n",
    "    lines(log(xseq2), yseq2, col = \"lightsteelblue\")\n",
    "    \n",
    "    seqq = quantile(lfc_sd[rej_S2], seq(0.00,1,by = 0.05))\n",
    "    rejlfc = lfc[rej_S2]\n",
    "    rejsd = lfc_sd[rej_S2]\n",
    "    yseq1 = rep(0.0, length(seqq)-1)\n",
    "    xseq1 = rep(0.0, length(seqq)-1)\n",
    "    yseq2 = rep(0.0, length(seqq)-1)\n",
    "    xseq2 = rep(0.0, length(seqq)-1)\n",
    "    for(k in 2:length(seqq)){\n",
    "      locc = (rejsd < seqq[k] & rejsd>seqq[k-1] & rejlfc>0)\n",
    "      yseq1[k-1] = min(rejlfc[locc])\n",
    "      loc.x = which.min(rejlfc[locc])\n",
    "      xseq1[k-1] = rejsd[locc][loc.x]\n",
    "      \n",
    "      locc = (rejsd < seqq[k] & rejsd>seqq[k-1] & rejlfc<0)\n",
    "      yseq2[k-1] = max(rejlfc[locc])\n",
    "      loc.x = which.max(rejlfc[locc])\n",
    "      xseq2[k-1] = rejsd[locc][loc.x]\n",
    "    }\n",
    "    lines(log(xseq1), yseq1, col = \"steelblue\")\n",
    "    lines(log(xseq2), yseq2, col = \"steelblue\")\n",
    "  }\n",
    "  \n",
    "  points(log(lfc_sd)[rejset[,i]], lfc[rejset[,i]], col = \"lightsteelblue\")\n",
    "  points(log(lfc_sd)[rejset2[,i]], lfc[rejset2[,i]], col = \"steelblue\")\n",
    "  \n",
    "  points(log(lfc_sd)[rejno[,i]], lfc[rejno[,i]], col = \"white\", pch = 17, cex = 2.1, lwd = 2.5)\n",
    "  points(log(lfc_sd)[rejno[,i]], lfc[rejno[,i]], col = \"black\", pch = 17, cex = 2, lwd = 2)\n",
    "  \n",
    "  points(log(lfc_sd)[rejhxt[,i]], lfc[rejhxt[,i]], col = \"white\", pch = 4, cex = 2.1, lwd = 2.5)\n",
    "  points(log(lfc_sd)[rejhxt[,i]], lfc[rejhxt[,i]], col = \"red\", pch = 4, cex = 2, lwd = 2)\n",
    "  points(log(lfc_sd)[rejhxt2[,i]], lfc[rejhxt2[,i]], col = \"white\", pch = 8, cex = 2.1, lwd = 2.5)\n",
    "  points(log(lfc_sd)[rejhxt2[,i]], lfc[rejhxt2[,i]], col = \"red\", pch = 8, cex = 2, lwd = 2)\n",
    "  title(subtitle[i], adj = 0, cex.main = 2)\n",
    "}\n",
    "dev.off()"
   ]
  },
  {
   "cell_type": "markdown",
   "id": "7f862128-22c7-4764-aba1-ae98500a5c4b",
   "metadata": {},
   "source": [
    "### Figures in Supplement"
   ]
  },
  {
   "cell_type": "markdown",
   "id": "fdb52c2f-0031-4578-a33e-48ea35fdd1e9",
   "metadata": {},
   "source": [
    "#### Figure S1: Random vectors with different copulas[Joe, 1997]."
   ]
  },
  {
   "cell_type": "code",
   "execution_count": 83,
   "id": "d3bbe309-73c5-40bf-837d-21da946b8eb7",
   "metadata": {},
   "outputs": [
    {
     "data": {
      "text/html": [
       "<strong>png:</strong> 2"
      ],
      "text/latex": [
       "\\textbf{png:} 2"
      ],
      "text/markdown": [
       "**png:** 2"
      ],
      "text/plain": [
       "png \n",
       "  2 "
      ]
     },
     "metadata": {},
     "output_type": "display_data"
    }
   ],
   "source": [
    "names = c(\"(A) Independent\", \"(B) Gaussian\", \"(C) Frank\" ,\"(D) Clayton\",\"(E) Gumbel\",\"(F) Joe\")\n",
    "j = 1\n",
    "pdf(\"FigureS1.pdf\", width = 14, height = 10)\n",
    "par(mfrow = c(2,3), pch = 19, col = rgb(0.5, 0.5, 0.5, 0.9), mar = c(2.5,2.5,5,2.5), cex = 0.5)\n",
    "n = 4000\n",
    "for(i in c(0, 1, 5, 23, 34, 36)){\n",
    "  set.seed(1)\n",
    "  \n",
    "  if(i > 37){\n",
    "    par = BiCopTau2Par(23, -0.4)\n",
    "    r = BiCopSim(n, 23, par)\n",
    "    cop = BiCopEst(r[,1], r[,2], i)\n",
    "    r = BiCopSim(n, obj = cop)\n",
    "    #png(paste0(\"cop\",i,\".png\"), height = 600, width = 600)\n",
    "    #par(pch = 19, col = rgb(0.5, 0.5, 0.5, 0.2))\n",
    "    plot(r, cex = 0.8, xlab = \"\", ylab = \"\")\n",
    "    title(names[j], cex.main = 2, adj = 0)\n",
    "    #dev.off()\n",
    "  }else{\n",
    "    par = BiCopTau2Par(i, -0.4)\n",
    "    r = BiCopSim(n, i, par)\n",
    "    #png(paste0(\"cop\",i,\".png\"), height = 600, width = 600)\n",
    "    #par(pch = 19, col = rgb(0.5, 0.5, 0.5, 0.2))\n",
    "    plot(r, cex = 0.8, xlab = \"\", ylab = \"\")\n",
    "    title(names[j], cex.main = 2, adj = 0)\n",
    "    #dev.off()\n",
    "  }\n",
    "  j = j+1\n",
    "}\n",
    "dev.off()"
   ]
  },
  {
   "cell_type": "markdown",
   "id": "37504758-c893-42b1-8e0e-bbe345a04700",
   "metadata": {},
   "source": [
    "#### Figure S2: Histograms of (A) pH(0.987) and (B) pS"
   ]
  },
  {
   "cell_type": "code",
   "execution_count": 41,
   "id": "10a3155f-069e-40de-9853-5537516eb7f6",
   "metadata": {},
   "outputs": [
    {
     "ename": "ERROR",
     "evalue": "Error in Cairo::Cairo(width, height, tf, \"png\", pointsize, bg, \"transparent\", : Graphics API version mismatch\n",
     "output_type": "error",
     "traceback": [
      "Error in Cairo::Cairo(width, height, tf, \"png\", pointsize, bg, \"transparent\", : Graphics API version mismatch\nTraceback:\n"
     ]
    },
    {
     "data": {
      "text/plain": [
       "Plot with title “Histogram of pval1”"
      ]
     },
     "metadata": {
      "image/png": {
       "height": 420,
       "width": 420
      }
     },
     "output_type": "display_data"
    }
   ],
   "source": [
    "hist(pval1)"
   ]
  },
  {
   "cell_type": "code",
   "execution_count": 43,
   "id": "952ba079-a06b-4260-bec6-52bfde61160d",
   "metadata": {},
   "outputs": [],
   "source": [
    "pval_H = function(p1,p2,copest, alpha = 0.10){\n",
    "  gammaseq = seq(0.9,1,0.001)\n",
    "  nrej = sapply(gammaseq, function(x){\n",
    "    pv = BiCopCDF(rep(x, n), p2, obj = copest)\n",
    "    pval_H = ifelse(p1>x, p1, pv)\n",
    "    p0hat = pi_0(0.5, pval_H)\n",
    "    false_H = rank(pval_H)\n",
    "    rej_H = (p0hat*n*pval_H/false_H<0.05)\n",
    "    return(sum(rej_H))\n",
    "  })\n",
    "  \n",
    "  gamma = gammaseq[which.max(nrej)]\n",
    "  pv = BiCopCDF(rep(gamma, n), p2, obj = copest)\n",
    "  pval = ifelse(p1>gamma, p1, pv)\n",
    "  \n",
    "  return(list(gamma = gamma, pval = pval))\n",
    "}\n",
    "\n",
    "pval_S = function(p1,p2,copest){\n",
    "  \n",
    "  pvalS = BiCopHfunc1(p1, p2, obj = copest)\n",
    "  \n",
    "  return(pvalS)\n",
    "}\n",
    "\n",
    "tau = wdm(pval1, pval2, \"kendall\")\n",
    "cop = BiCop(23, tau = tau)\n",
    "pvalH = pval_H(pval1, pval2,cop)\n",
    "pvalS = pval_S(pval1, pval2,cop)"
   ]
  },
  {
   "cell_type": "code",
   "execution_count": 44,
   "id": "a235b522-9f3f-413d-b8cf-82283286b77f",
   "metadata": {},
   "outputs": [
    {
     "data": {
      "text/html": [
       "<strong>png:</strong> 2"
      ],
      "text/latex": [
       "\\textbf{png:} 2"
      ],
      "text/markdown": [
       "**png:** 2"
      ],
      "text/plain": [
       "png \n",
       "  2 "
      ]
     },
     "metadata": {},
     "output_type": "display_data"
    }
   ],
   "source": [
    "pdf(\"FigureS2.pdf\", width = 14, height = 6.5)\n",
    "par(mfrow = c(1,2))\n",
    "hist(pvalH$pval, main = \"\", xlab = \"\", border = \"grey\", ylab = \"\")\n",
    "title(\"(A) Two-stage (H)\", adj = 0, cex.main= 1.5)\n",
    "hist(pvalS, main = \"\", ylab = \"\", border = \"grey\")\n",
    "title(\"(B) Two-stage (S)\", adj = 0, cex.main = 1.5)\n",
    "dev.off()"
   ]
  },
  {
   "cell_type": "markdown",
   "id": "b915018a-cb78-4746-9673-cef9eb581293",
   "metadata": {},
   "source": [
    "#### Figure S3: The plot represents a Venn diagram comparing the rejected hypotheses from one-stage FDR(locfdr), one-stage FDR(Storey), two-stage FDR(H) and two-stage FDR(S)"
   ]
  },
  {
   "cell_type": "code",
   "execution_count": 47,
   "id": "706d441d-cdab-42ec-8215-132fcde4ed78",
   "metadata": {},
   "outputs": [],
   "source": [
    "library(VennDiagram)"
   ]
  },
  {
   "cell_type": "code",
   "execution_count": 48,
   "id": "4378e77b-4296-4dac-aa24-7755f3f18a31",
   "metadata": {},
   "outputs": [
    {
     "data": {
      "text/html": [
       "0.987"
      ],
      "text/latex": [
       "0.987"
      ],
      "text/markdown": [
       "0.987"
      ],
      "text/plain": [
       "[1] 0.987"
      ]
     },
     "metadata": {},
     "output_type": "display_data"
    }
   ],
   "source": [
    "## locfdr\n",
    "rej_locfdr = (p0hat*f0/f < 0.05)\n",
    "rej_locfdr2 = (p0hat*f0/f < 0.1)\n",
    "\n",
    "## Storey\n",
    "p0 = pi_01(pval2)\n",
    "rej_Storey = (p0*n*pval2/rank(pval2) <0.05)\n",
    "rej_Storey2 = (p0*n*pval2/rank(pval2) <0.1)\n",
    "\n",
    "## Two-stage (H)\n",
    "gamma_seq = seq(0.5,1,0.001)\n",
    "tau = wdm(pval1, pval2, \"kendall\")\n",
    "cop = BiCop(23, tau = tau)\n",
    "\n",
    "nrej = sapply(gamma_seq, function(x){\n",
    "  pv = BiCopCDF(rep(x, n), pval2, obj = cop)\n",
    "  pv = ifelse(pval1>x, pval1, pv)\n",
    "  p0 = pi_01(pv)\n",
    "  nr =  sum(p0*n*pv/rank(pv) <0.10)\n",
    "  return(nr)\n",
    "})\n",
    "\n",
    "gamma = gamma_seq[which.max(nrej)]; gamma\n",
    "\n",
    "pv = BiCopCDF(rep(gamma, n), pval2, obj = cop)\n",
    "pval_H = ifelse(pval1>gamma, pval1, pv)\n",
    "p0 = pi_01(pval_H)\n",
    "rej_H = (p0*n*pval_H/rank(pval_H) <0.05)\n",
    "rej_H2 = (p0*n*pval_H/rank(pval_H) <0.10)\n",
    "\n",
    "## Two-stage (S)\n",
    "pval_S = BiCopHfunc1(pval1, pval2, obj = cop)\n",
    "p0hat = pi_01(pval_S)\n",
    "rej_S2 = (p0hat*n*pval_S/rank(pval_S) <0.10)\n",
    "rej_S = (p0hat*n*pval_S/rank(pval_S) <0.05)"
   ]
  },
  {
   "cell_type": "code",
   "execution_count": 51,
   "id": "87b8e979-a0ef-4330-8bea-7adc0b7b3824",
   "metadata": {},
   "outputs": [
    {
     "ename": "ERROR",
     "evalue": "Error in venn.diagram(x = df2, total.population = n, filename = \"FigureS3.pdf\", : You have misspelled your \"imagetype\", please try again\n",
     "output_type": "error",
     "traceback": [
      "Error in venn.diagram(x = df2, total.population = n, filename = \"FigureS3.pdf\", : You have misspelled your \"imagetype\", please try again\nTraceback:\n",
      "1. venn.diagram(x = df2, total.population = n, filename = \"FigureS3.pdf\", \n .     imagetype = \"pdf\", col = \"black\", lwd = 0, fill = c(\"lightgrey\", \n .         \"lightsteelblue\", \"lightgrey\", \"lightsteelblue\"), alpha = c(0.3, \n .         0.6, 0.3, 0.6), label.col = \"black\", cex = 2, fontfamily = \"serif\", \n .     cat.col = \"black\", cat.cex = 1.5, cat.pos = c(0, 0, 0, 0), \n .     cat.fontfamily = \"serif\", margin = 0.05)",
      "2. stop(\"You have misspelled your \\\"imagetype\\\", please try again\")"
     ]
    }
   ],
   "source": [
    "df2 = list(\"1-stage (locfdr)\" = file$label4[rej_locfdr2],\n",
    "           \"2-stage (S)\" = file$label4[rej_S2],\n",
    "           \"1-stage (Storey)\" = file$label4[rej_Storey2],\n",
    "           \"2-stage (H)\" = file$label4[rej_H2])\n",
    "\n",
    "venn.diagram(\n",
    "  x = df2,\n",
    "  total.population = n,\n",
    "  filename = \"FigureS3.png\", imagetype = \"png\", resolution = 350,\n",
    "  col = \"black\",\n",
    "  lwd = 0,\n",
    "  fill = c(\"lightgrey\", \"lightsteelblue\", \"lightgrey\", \"lightsteelblue\"),\n",
    "  alpha = c(0.3,0.6,0.3,0.6),\n",
    "  label.col = \"black\",\n",
    "  cex = 2,\n",
    "  fontfamily = \"serif\",\n",
    "  cat.col = \"black\",\n",
    "  cat.cex = 1.5,\n",
    "  cat.pos = c(0,0,0,0),\n",
    "  cat.fontfamily = \"serif\",\n",
    "  margin = 0.05\n",
    ")"
   ]
  },
  {
   "cell_type": "markdown",
   "id": "b628d062-23d1-44e3-a7e1-b6e0d67e53fc",
   "metadata": {},
   "source": [
    "#### Figure S4: Comparative Analysis of Gene Rejection Methods. "
   ]
  },
  {
   "cell_type": "code",
   "execution_count": 72,
   "id": "1664d08b-8683-41e8-96d7-af8f18cfbaa3",
   "metadata": {},
   "outputs": [
    {
     "data": {
      "text/html": [
       "37"
      ],
      "text/latex": [
       "37"
      ],
      "text/markdown": [
       "37"
      ],
      "text/plain": [
       "[1] 37"
      ]
     },
     "metadata": {},
     "output_type": "display_data"
    },
    {
     "data": {
      "text/html": [
       "0.988"
      ],
      "text/latex": [
       "0.988"
      ],
      "text/markdown": [
       "0.988"
      ],
      "text/plain": [
       "[1] 0.988"
      ]
     },
     "metadata": {},
     "output_type": "display_data"
    },
    {
     "data": {
      "text/html": [
       "504"
      ],
      "text/latex": [
       "504"
      ],
      "text/markdown": [
       "504"
      ],
      "text/plain": [
       "[1] 504"
      ]
     },
     "metadata": {},
     "output_type": "display_data"
    },
    {
     "data": {
      "text/html": [
       "588"
      ],
      "text/latex": [
       "588"
      ],
      "text/markdown": [
       "588"
      ],
      "text/plain": [
       "[1] 588"
      ]
     },
     "metadata": {},
     "output_type": "display_data"
    }
   ],
   "source": [
    "## DEseq2 \n",
    "rej_deseq2 = (pval_deseq<0.10); sum(rej_deseq2, na.rm = T)\n",
    "\n",
    "\n",
    "## Two-stage (H)\n",
    "gamma_seq = seq(0.5,1,0.001)\n",
    "tau = wdm(pval1_deseq, pval2, \"kendall\")\n",
    "cop = BiCop(23, tau = tau)\n",
    "\n",
    "nrej = sapply(gamma_seq, function(x){\n",
    "  pv = BiCopCDF(rep(x, n), pval2, obj = cop)\n",
    "  pv = ifelse(pval1_deseq>x, pval1_deseq, pv)\n",
    "  p0 = pi_01(pv)\n",
    "  nr =  sum(p0*n*pv/rank(pv) <0.10)\n",
    "  return(nr)\n",
    "})\n",
    "\n",
    "gamma = gamma_seq[which.max(nrej)]; gamma\n",
    "\n",
    "pv = BiCopCDF(rep(gamma, n), pval2, obj = cop)\n",
    "pval_H = ifelse(pval1_deseq>gamma, pval1_deseq, pv)\n",
    "p0 = pi_01(pval_H)\n",
    "rej_H2 = (p0*n*pval_H/rank(pval_H) <0.10); sum(rej_H2, na.rm = T)\n",
    "\n",
    "## Two-stage (S)\n",
    "pval_S = BiCopHfunc1(pval1_deseq, pval2, obj = cop)\n",
    "p0hat = pi_01(pval_S)\n",
    "rej_S2 = (p0hat*n*pval_S/rank(pval_S) <0.10); sum(rej_S2, na.rm = T)"
   ]
  },
  {
   "cell_type": "code",
   "execution_count": 73,
   "id": "04aa1985-6120-41ba-8c61-c8bcc6f60ed2",
   "metadata": {},
   "outputs": [
    {
     "data": {
      "text/html": [
       "<strong>png:</strong> 2"
      ],
      "text/latex": [
       "\\textbf{png:} 2"
      ],
      "text/markdown": [
       "**png:** 2"
      ],
      "text/plain": [
       "png \n",
       "  2 "
      ]
     },
     "metadata": {},
     "output_type": "display_data"
    }
   ],
   "source": [
    "pdf(\"FigureS4.pdf\", width = 12, height = 18)\n",
    "par(mfrow = c(3,2), pch = 19, col = \"grey\")\n",
    "#Deseq2\n",
    "plot(log(lfc_sd_deseq), lfc, xlab = \"\", ylab = \"\")\n",
    "points(log(lfc_sd_deseq)[rej_deseq2], lfc[rej_deseq2], col = \"red\", xlab = \"\", ylab = \"\")\n",
    "\n",
    "plot(pval1_deseq, pval2, xlab = \"\", ylab = \"\")\n",
    "points(pval1_deseq[rej_deseq2], pval2[rej_deseq2], col = \"red\", xlab = \"\", ylab = \"\")\n",
    "\n",
    "#H\n",
    "plot(log(lfc_sd_deseq), lfc, xlab = \"\", ylab = \"\")\n",
    "points(log(lfc_sd_deseq)[rej_H2], lfc[rej_H2], col = \"red\", xlab = \"\", ylab = \"\")\n",
    "\n",
    "plot(pval1_deseq, pval2, xlab = \"\", ylab = \"\")\n",
    "points(pval1_deseq[rej_H2], pval2[rej_H2], col = \"red\", xlab = \"\", ylab = \"\")\n",
    "\n",
    "#S\n",
    "plot(log(lfc_sd_deseq), lfc, xlab = \"\", ylab = \"\")\n",
    "points(log(lfc_sd_deseq)[rej_S2], lfc[rej_S2], col = \"red\", xlab = \"\", ylab = \"\")\n",
    "\n",
    "plot(pval1_deseq, pval2, xlab = \"\", ylab = \"\")\n",
    "points(pval1_deseq[rej_S2], pval2[rej_S2], col = \"red\", xlab = \"\", ylab = \"\")\n",
    "\n",
    "dev.off()"
   ]
  }
 ],
 "metadata": {
  "kernelspec": {
   "display_name": "R",
   "language": "R",
   "name": "ir"
  },
  "language_info": {
   "codemirror_mode": "r",
   "file_extension": ".r",
   "mimetype": "text/x-r-source",
   "name": "R",
   "pygments_lexer": "r",
   "version": "4.4.0"
  }
 },
 "nbformat": 4,
 "nbformat_minor": 5
}
