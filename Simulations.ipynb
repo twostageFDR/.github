{
 "cells": [
  {
   "cell_type": "markdown",
   "id": "d0e4a151-6866-4421-9a3f-7a032ffb39ac",
   "metadata": {},
   "source": [
    "## Tables\n",
    "* Assume that [set4delta.csv] file is located in the same directory.\n",
    "* \"datacall.r\" file preprocess the [set4delta.csv] dataset. (source(\"datacall.r\") would take few minutes)\n",
    "* functions for replicating the results in simulation studies are coded in \"simulation.r\"."
   ]
  },
  {
   "cell_type": "code",
   "execution_count": 15,
   "id": "72522943-dfbe-4f39-976f-095d13ab7c79",
   "metadata": {},
   "outputs": [],
   "source": [
    "myfile<-read.csv(\"set4delta.csv\")\n",
    "lfc = myfile$realdata"
   ]
  },
  {
   "cell_type": "code",
   "execution_count": 17,
   "id": "4d6b7ffb-909e-457a-85c0-c388349af5b0",
   "metadata": {},
   "outputs": [
    {
     "name": "stderr",
     "output_type": "stream",
     "text": [
      "Warning message in locfdr(trndat, plot = 0, type = 0, bre = 1000):\n",
      "“f(z) misfit = 1.6.  Rerun with increased df”\n"
     ]
    },
    {
     "name": "stdout",
     "output_type": "stream",
     "text": [
      "        label4     realdata          WT1          WT2          WT3          KO1\n",
      "1         ICR1  0.002630448 3.646573e+03 4.019110e+03 4.137667e+03 3.793537e+03\n",
      "2         IRT1 -0.061235143 1.760300e+03 2.013854e+03 2.086823e+03 1.871974e+03\n",
      "3         LSR1  0.011810776 1.949654e+06 2.401455e+06 2.193183e+06 2.143502e+06\n",
      "4   MSTRG.10.1  0.327721125 1.823287e+01 4.776694e+00 4.831562e+01 3.146976e+01\n",
      "5 MSTRG.1001.1  0.023151009 5.005750e+02 4.174830e+02 4.533444e+02 4.520202e+02\n",
      "6 MSTRG.1006.1  0.088136981 6.688147e+02 6.563177e+02 7.072584e+02 7.180827e+02\n",
      "           KO2          KO3     realcv       cvKO        cvWT     Max.CV\n",
      "1 3.970038e+03 4.061316e+03 0.06513217 0.06513217 0.034536752 0.06513217\n",
      "2 1.751374e+03 1.994066e+03 0.08772375 0.08772375 0.064805792 0.08772375\n",
      "3 2.296157e+06 2.158429e+06 0.10366110 0.10366110 0.038264590 0.10366110\n",
      "4 3.186072e+01 2.618471e+01 0.93763360 0.93763360 0.106246226 0.93763360\n",
      "5 5.078405e+02 4.337262e+02 0.09116674 0.09116674 0.083112324 0.09116674\n",
      "6 7.279691e+02 7.143726e+02 0.03918857 0.03918857 0.009759414 0.03918857\n",
      "       Min.CV X1.Max.CV  X1.Min.CV\n",
      "1 0.034536752 15.353396  28.954663\n",
      "2 0.064805792 11.399421  15.430720\n",
      "3 0.038264590  9.646820  26.133822\n",
      "4 0.106246226  1.066515   9.412099\n",
      "5 0.083112324 10.968912  12.031910\n",
      "6 0.009759414 25.517648 102.465170\n"
     ]
    },
    {
     "name": "stderr",
     "output_type": "stream",
     "text": [
      "Loading required package: S4Vectors\n",
      "\n",
      "Loading required package: stats4\n",
      "\n",
      "Loading required package: BiocGenerics\n",
      "\n",
      "\n",
      "Attaching package: ‘BiocGenerics’\n",
      "\n",
      "\n",
      "The following objects are masked from ‘package:stats’:\n",
      "\n",
      "    IQR, mad, sd, var, xtabs\n",
      "\n",
      "\n",
      "The following objects are masked from ‘package:base’:\n",
      "\n",
      "    anyDuplicated, aperm, append, as.data.frame, basename, cbind,\n",
      "    colnames, dirname, do.call, duplicated, eval, evalq, Filter, Find,\n",
      "    get, grep, grepl, intersect, is.unsorted, lapply, Map, mapply,\n",
      "    match, mget, order, paste, pmax, pmax.int, pmin, pmin.int,\n",
      "    Position, rank, rbind, Reduce, rownames, sapply, setdiff, table,\n",
      "    tapply, union, unique, unsplit, which.max, which.min\n",
      "\n",
      "\n",
      "\n",
      "Attaching package: ‘S4Vectors’\n",
      "\n",
      "\n",
      "The following object is masked from ‘package:utils’:\n",
      "\n",
      "    findMatches\n",
      "\n",
      "\n",
      "The following objects are masked from ‘package:base’:\n",
      "\n",
      "    expand.grid, I, unname\n",
      "\n",
      "\n",
      "Loading required package: IRanges\n",
      "\n",
      "Loading required package: GenomicRanges\n",
      "\n",
      "Loading required package: GenomeInfoDb\n",
      "\n",
      "Loading required package: SummarizedExperiment\n",
      "\n",
      "Loading required package: MatrixGenerics\n",
      "\n",
      "Loading required package: matrixStats\n",
      "\n",
      "\n",
      "Attaching package: ‘matrixStats’\n",
      "\n",
      "\n",
      "The following object is masked from ‘package:EnvStats’:\n",
      "\n",
      "    iqr\n",
      "\n",
      "\n",
      "\n",
      "Attaching package: ‘MatrixGenerics’\n",
      "\n",
      "\n",
      "The following objects are masked from ‘package:matrixStats’:\n",
      "\n",
      "    colAlls, colAnyNAs, colAnys, colAvgsPerRowSet, colCollapse,\n",
      "    colCounts, colCummaxs, colCummins, colCumprods, colCumsums,\n",
      "    colDiffs, colIQRDiffs, colIQRs, colLogSumExps, colMadDiffs,\n",
      "    colMads, colMaxs, colMeans2, colMedians, colMins, colOrderStats,\n",
      "    colProds, colQuantiles, colRanges, colRanks, colSdDiffs, colSds,\n",
      "    colSums2, colTabulates, colVarDiffs, colVars, colWeightedMads,\n",
      "    colWeightedMeans, colWeightedMedians, colWeightedSds,\n",
      "    colWeightedVars, rowAlls, rowAnyNAs, rowAnys, rowAvgsPerColSet,\n",
      "    rowCollapse, rowCounts, rowCummaxs, rowCummins, rowCumprods,\n",
      "    rowCumsums, rowDiffs, rowIQRDiffs, rowIQRs, rowLogSumExps,\n",
      "    rowMadDiffs, rowMads, rowMaxs, rowMeans2, rowMedians, rowMins,\n",
      "    rowOrderStats, rowProds, rowQuantiles, rowRanges, rowRanks,\n",
      "    rowSdDiffs, rowSds, rowSums2, rowTabulates, rowVarDiffs, rowVars,\n",
      "    rowWeightedMads, rowWeightedMeans, rowWeightedMedians,\n",
      "    rowWeightedSds, rowWeightedVars\n",
      "\n",
      "\n",
      "Loading required package: Biobase\n",
      "\n",
      "Welcome to Bioconductor\n",
      "\n",
      "    Vignettes contain introductory material; view with\n",
      "    'browseVignettes()'. To cite Bioconductor, see\n",
      "    'citation(\"Biobase\")', and for packages 'citation(\"pkgname\")'.\n",
      "\n",
      "\n",
      "\n",
      "Attaching package: ‘Biobase’\n",
      "\n",
      "\n",
      "The following object is masked from ‘package:MatrixGenerics’:\n",
      "\n",
      "    rowMedians\n",
      "\n",
      "\n",
      "The following objects are masked from ‘package:matrixStats’:\n",
      "\n",
      "    anyMissing, rowMedians\n",
      "\n",
      "\n",
      "converting counts to integer mode\n",
      "\n",
      "estimating size factors\n",
      "\n",
      "estimating dispersions\n",
      "\n",
      "gene-wise dispersion estimates\n",
      "\n",
      "mean-dispersion relationship\n",
      "\n",
      "final dispersion estimates\n",
      "\n",
      "fitting model and testing\n",
      "\n"
     ]
    }
   ],
   "source": [
    "source(\"datacall.r\")\n",
    "source(\"simulation.r\")"
   ]
  },
  {
   "cell_type": "markdown",
   "id": "16d0a0da-a863-4d34-8db1-a6d011aee34c",
   "metadata": {
    "jp-MarkdownHeadingCollapsed": true
   },
   "source": [
    "#### Simulation for **Table 1** \n",
    "* with sample size(n) 8000\n",
    "* differentiating the correlations of primary p-values and auxiliary p-values by [0.0, 0.2, 0.4, 0.6, 0.8]\n",
    "* differentiating the distance between null($N(0,1)$) and alternative($N(mm, 1)$) distributions.\n",
    "* This will take few hours."
   ]
  },
  {
   "cell_type": "code",
   "execution_count": 24,
   "id": "e94dd101-2820-4696-9b4e-b23c5bfeaf02",
   "metadata": {},
   "outputs": [],
   "source": [
    "n = 8000\n",
    "taus = c(0, 0.2, 0.4, 0.6, 0.8)\n",
    "mms = c(2.0, 2.5, 3.0, 3.5, 4.0)"
   ]
  },
  {
   "cell_type": "code",
   "execution_count": null,
   "id": "46bb5a43-9dad-48c8-b8ab-64db73393ea7",
   "metadata": {
    "scrolled": true
   },
   "outputs": [],
   "source": [
    "for(tau in c(0, 0.2,0.4, 0.6, 0.8)){\n",
    "  print(paste(c(\"now the tau is\", tau)))\n",
    "  \n",
    "  simres = array(0.0, c(2, 21, 1000) )\n",
    "  if(tau==0){\n",
    "    cop = BiCop(0)\n",
    "  }else{\n",
    "    cop = BiCop(3, tau = tau)\n",
    "  }\n",
    "  \n",
    "  for(i in 1:1000){\n",
    "    simdat = simgen(i, n, cop)\n",
    "    res = test_all(simdat)\n",
    "    simres[,,i] = res\n",
    "    if(i%%10==0) print(res[1,1:21])\n",
    "  }\n",
    "  assign(paste0(\"tau_\",tau), simres)\n",
    "}"
   ]
  },
  {
   "cell_type": "code",
   "execution_count": null,
   "id": "70114d83-82c4-4000-9fba-65aba4c8b90b",
   "metadata": {},
   "outputs": [],
   "source": [
    "for(mm in c(2.0, 2.5, 3.0, 3.5, 4.0)){\n",
    "  print(paste(c(\"now the mu is\", mm)))\n",
    "  \n",
    "  simres = array(0.0, c(2, 21, 1000))\n",
    "  if(tau==0){\n",
    "    cop = BiCop(0)\n",
    "  }else{\n",
    "    cop = BiCop(3, tau = 0.4)\n",
    "  }\n",
    "  \n",
    "  for(i in 1:1000){\n",
    "    simdat = simgen(i, n, cop, mm=mm)\n",
    "    res = test_all(simdat)\n",
    "    simres[,,i] = res\n",
    "    if(i%%100==0) print(res[1,1:21])\n",
    "  }\n",
    "  assign(paste0(\"mm_\",mm), simres)\n",
    "  #saveRDS(simres, paste0(\"cop23_tau\",tau,\"_mm2_sd1.rds\"))\n",
    "}"
   ]
  },
  {
   "cell_type": "code",
   "execution_count": null,
   "id": "a500e211-64ce-42bb-a4c6-2b9697c7c2cf",
   "metadata": {},
   "outputs": [],
   "source": [
    "fdr_tbl = array(NA, dim = c(7,4,5))\n",
    "power_tbl = fdr_tbl\n",
    "\n",
    "i = 1\n",
    "\n",
    "for(tau in c(0,0.2,0.4,0.6,0.8)){\n",
    "  mat = get(paste0(\"tau_\",tau))\n",
    "  fdr_tbl[,,i] = fdr_and_power(mat)$fdr\n",
    "  power_tbl[,,i] = fdr_and_power(mat)$power\n",
    "  i = i+1\n",
    "}\n",
    "\n",
    "saveRDS(fdr_tbl, \"fdr_diff_tau.rds\")\n",
    "saveRDS(power_tbl, \"power_diff_tau.rds\")\n",
    "\n",
    "fdr_tbl2 = array(NA, dim = c(7,4,5))\n",
    "power_tbl2 = fdr_tbl\n",
    "\n",
    "i = 1\n",
    "\n",
    "for(mu in c(2, 2.5, 3, 3.5, 4)){\n",
    "  mat = get(paste0(\"mm_\",mu))\n",
    "  fdr_tbl2[,,i] = fdr_and_power(mat)$fdr\n",
    "  power_tbl2[,,i] = fdr_and_power(mat)$power\n",
    "  i = i+1\n",
    "}\n",
    "\n",
    "saveRDS(fdr_tbl2, \"fdr_diff_mu.rds\")\n",
    "saveRDS(power_tbl2, \"power_diff_mu.rds\")"
   ]
  },
  {
   "cell_type": "markdown",
   "id": "56c4ead7-79a4-47a6-b6a8-15e81ef9eec4",
   "metadata": {
    "jp-MarkdownHeadingCollapsed": true
   },
   "source": [
    "#### Simulation for **Table 2** \n",
    "* with sample size(n) 8000\n",
    "* the correlations of primary p-values and auxiliary p-values is set to be 0.4\n",
    "* the distance between null($N(0,1)$) and alternative($N(3, 1)$) distributions.\n",
    "* compared with Misspecified copula : BB7, BB6 and Joe copulas\n",
    "* This will take few hours."
   ]
  },
  {
   "cell_type": "code",
   "execution_count": null,
   "id": "0a34ba48-61fa-43be-b8bf-244b7a428c08",
   "metadata": {},
   "outputs": [],
   "source": [
    "miscop = c(39, 38,36) #BB7, BB6, Joe\n",
    "for(c in miscop){\n",
    "  print(paste(c(\"now the cop is\", c)))\n",
    "  cop = BiCop(3, tau = 0.4)\n",
    "  simres = array(0.0, c(2, 21, 1000) )\n",
    "  for(i in 1:1000){\n",
    "    simdat = simgen(i, n, cop)\n",
    "    res = test_all(simdat, copnum = c)\n",
    "    simres[,,i] = res\n",
    "    if(i%%100==0) print(res[1,1:21])\n",
    "  }\n",
    "  assign(paste0(\"misfit_\",c), simres)\n",
    "}"
   ]
  },
  {
   "cell_type": "code",
   "execution_count": null,
   "id": "0afeb6ff-f991-4b1c-abfc-6cd6238839d3",
   "metadata": {},
   "outputs": [],
   "source": [
    "miscop = c(39, 38,36) #BB7, BB6, Joe\n",
    "for(c in miscop){\n",
    "  print(paste(c(\"now the cop is\", c)))\n",
    "  testcop = BiCop(3, tau = 0.4)\n",
    "  simres = array(0.0, c(2, 21, 1000))\n",
    "  for(i in 1:1000){\n",
    "    set.seed(i)\n",
    "    rr = BiCopSim(n, obj = testcop)\n",
    "    cop = BiCopEst(rr[,1], rr[,2], c)\n",
    "    simdat = simgen(i, n, cop)\n",
    "    res = test_all(simdat)\n",
    "    simres[,,i] = res\n",
    "    if(i%%100==0) print(res[1,1:21])\n",
    "  }\n",
    "  assign(paste0(\"misgen_\",c), simres)\n",
    "}"
   ]
  },
  {
   "cell_type": "code",
   "execution_count": null,
   "id": "4a18d949-117e-4a29-924a-cb4ba0175c9d",
   "metadata": {},
   "outputs": [],
   "source": [
    "fdr_tbl3 = array(NA, dim = c(7,4,5))\n",
    "power_tbl3 = fdr_tbl\n",
    "\n",
    "i = 1\n",
    "\n",
    "for(c in miscop){\n",
    "  mat = get(paste0(\"misfit_\",c))\n",
    "  fdr_tbl3[,,i] = fdr_and_power(mat)$fdr\n",
    "  power_tbl3[,,i] = fdr_and_power(mat)$power\n",
    "  i = i+1\n",
    "}\n",
    "\n",
    "saveRDS(fdr_tbl3, \"fdr_misfit.rds\")\n",
    "saveRDS(power_tbl3, \"power_misfit.rds\")\n",
    "\n",
    "\n",
    "\n",
    "\n",
    "\n",
    "fdr_tbl4 = array(NA, dim = c(7,4,5))\n",
    "power_tbl4 = fdr_tbl\n",
    "\n",
    "i = 1\n",
    "\n",
    "for(c in miscop){\n",
    "  mat = get(paste0(\"misgen_\",c))\n",
    "  fdr_tbl4[,,i] = fdr_and_power(mat)$fdr\n",
    "  power_tbl4[,,i] = fdr_and_power(mat)$power\n",
    "  i = i+1\n",
    "}\n",
    "\n",
    "saveRDS(fdr_tbl4, \"fdr_misgen.rds\")\n",
    "saveRDS(power_tbl4, \"power_misgen.rds\")"
   ]
  },
  {
   "cell_type": "markdown",
   "id": "318d5547-560c-4e68-80fa-56b75792bb84",
   "metadata": {},
   "source": [
    "#### **Table 3** The Log-likelihood, AIC, BIC of Gaussian, Frank, Clayton, Gumbel copulas with set4∆ dataset"
   ]
  },
  {
   "cell_type": "code",
   "execution_count": 18,
   "id": "1e916bcf-e87a-4501-9dff-a86e625298b7",
   "metadata": {},
   "outputs": [
    {
     "data": {
      "text/html": [
       "-0.386232531158245"
      ],
      "text/latex": [
       "-0.386232531158245"
      ],
      "text/markdown": [
       "-0.386232531158245"
      ],
      "text/plain": [
       "[1] -0.3862325"
      ]
     },
     "metadata": {},
     "output_type": "display_data"
    }
   ],
   "source": [
    "tau = wdm(pval1, pval2, \"kendall\"); tau\n",
    "cop = BiCop(23, tau = tau)"
   ]
  },
  {
   "cell_type": "code",
   "execution_count": 30,
   "id": "dffe9f67-5387-4349-b5ff-2f11beb2f991",
   "metadata": {},
   "outputs": [],
   "source": [
    "pval11 = pval1[pval1 + pval2 >= 1]\n",
    "pval22 = pval2[pval1 + pval2 >= 1]\n",
    "pval111 = c(pval11, 1-pval22)\n",
    "pval222 = c(pval22, 1-pval11)"
   ]
  },
  {
   "cell_type": "code",
   "execution_count": 36,
   "id": "e0d9647b-36cc-4ead-9588-1db9eec62ae4",
   "metadata": {},
   "outputs": [
    {
     "data": {
      "text/html": [
       "<table class=\"dataframe\">\n",
       "<caption>A data.frame: 5 × 4</caption>\n",
       "<thead>\n",
       "\t<tr><th scope=col>family</th><th scope=col>logLik</th><th scope=col>AIC</th><th scope=col>BIC</th></tr>\n",
       "\t<tr><th scope=col>&lt;chr&gt;</th><th scope=col>&lt;dbl&gt;</th><th scope=col>&lt;dbl&gt;</th><th scope=col>&lt;dbl&gt;</th></tr>\n",
       "</thead>\n",
       "<tbody>\n",
       "\t<tr><td>Gaussian</td><td>306.45</td><td>-610.91</td><td>-604.80</td></tr>\n",
       "\t<tr><td>Frank   </td><td>332.84</td><td>-663.68</td><td>-657.57</td></tr>\n",
       "\t<tr><td>Clayton </td><td>393.08</td><td>-784.16</td><td>-778.05</td></tr>\n",
       "\t<tr><td>Gumbel  </td><td>201.79</td><td>-401.57</td><td>-395.46</td></tr>\n",
       "\t<tr><td>Joe     </td><td> 96.29</td><td>-190.57</td><td>-184.46</td></tr>\n",
       "</tbody>\n",
       "</table>\n"
      ],
      "text/latex": [
       "A data.frame: 5 × 4\n",
       "\\begin{tabular}{llll}\n",
       " family & logLik & AIC & BIC\\\\\n",
       " <chr> & <dbl> & <dbl> & <dbl>\\\\\n",
       "\\hline\n",
       "\t Gaussian & 306.45 & -610.91 & -604.80\\\\\n",
       "\t Frank    & 332.84 & -663.68 & -657.57\\\\\n",
       "\t Clayton  & 393.08 & -784.16 & -778.05\\\\\n",
       "\t Gumbel   & 201.79 & -401.57 & -395.46\\\\\n",
       "\t Joe      &  96.29 & -190.57 & -184.46\\\\\n",
       "\\end{tabular}\n"
      ],
      "text/markdown": [
       "\n",
       "A data.frame: 5 × 4\n",
       "\n",
       "| family &lt;chr&gt; | logLik &lt;dbl&gt; | AIC &lt;dbl&gt; | BIC &lt;dbl&gt; |\n",
       "|---|---|---|---|\n",
       "| Gaussian | 306.45 | -610.91 | -604.80 |\n",
       "| Frank    | 332.84 | -663.68 | -657.57 |\n",
       "| Clayton  | 393.08 | -784.16 | -778.05 |\n",
       "| Gumbel   | 201.79 | -401.57 | -395.46 |\n",
       "| Joe      |  96.29 | -190.57 | -184.46 |\n",
       "\n"
      ],
      "text/plain": [
       "  family   logLik AIC     BIC    \n",
       "1 Gaussian 306.45 -610.91 -604.80\n",
       "2 Frank    332.84 -663.68 -657.57\n",
       "3 Clayton  393.08 -784.16 -778.05\n",
       "4 Gumbel   201.79 -401.57 -395.46\n",
       "5 Joe       96.29 -190.57 -184.46"
      ]
     },
     "metadata": {},
     "output_type": "display_data"
    }
   ],
   "source": [
    "aa = BiCopEstList(pval11, pval22, c(1,5,23,24,26), rotations = F)$summary\n",
    "aa$family = c(\"Gaussian\", \"Frank\", \"Clayton\",\"Gumbel\", \"Joe\"); aa"
   ]
  },
  {
   "cell_type": "markdown",
   "id": "fe6ddd08-0d62-40dd-bdb2-0d138bdd2e66",
   "metadata": {},
   "source": [
    "#### **Table4** Comparison of total and HXT family gene rejections using one-stage (locfdr, Storey), covarate-assisted (IHW, Boca and Leek, AdaFDR) and two-stage (types H and S) FDR methods at α = 0.05 and α = 0.10."
   ]
  },
  {
   "cell_type": "code",
   "execution_count": 281,
   "id": "99b93ff8-afe9-420c-affc-56a90dcc9a8a",
   "metadata": {},
   "outputs": [
    {
     "data": {
      "text/html": [
       "0.987"
      ],
      "text/latex": [
       "0.987"
      ],
      "text/markdown": [
       "0.987"
      ],
      "text/plain": [
       "[1] 0.987"
      ]
     },
     "metadata": {},
     "output_type": "display_data"
    }
   ],
   "source": [
    "## locfdr\n",
    "rej_locfdr = (p0hat*f0/f < 0.05)\n",
    "rej_locfdr2 = (p0hat*f0/f < 0.1)\n",
    "\n",
    "\n",
    "## Storey\n",
    "p0 = pi_01(pval2)\n",
    "rej_Storey = (p0*n*pval2/rank(pval2) <0.05)\n",
    "rej_Storey2 = (p0*n*pval2/rank(pval2) <0.1)\n",
    "\n",
    "## Two-stage (H)\n",
    "gamma_seq = seq(0.5,1,0.001)\n",
    "tau = wdm(pval1, pval2, \"kendall\")\n",
    "cop = BiCop(23, tau = tau)\n",
    "\n",
    "nrej = sapply(gamma_seq, function(x){\n",
    "  pv = BiCopCDF(rep(x, n), pval2, obj = cop)\n",
    "  pv = ifelse(pval1>x, pval1, pv)\n",
    "  p0 = pi_01(pv)\n",
    "  nr =  sum(p0*n*pv/rank(pv) <0.10)\n",
    "  return(nr)\n",
    "})\n",
    "\n",
    "\n",
    "gamma = gamma_seq[which.max(nrej)]; gamma\n",
    "\n",
    "pv = BiCopCDF(rep(gamma, n), pval2, obj = cop)\n",
    "pval_H = ifelse(pval1>gamma, pval1, pv)\n",
    "p0 = pi_01(pval_H)\n",
    "rej_H = (p0*n*pval_H/rank(pval_H) <0.05)\n",
    "rej_H2 = (p0*n*pval_H/rank(pval_H) <0.10)\n",
    "\n",
    "## Two-stage (S)\n",
    "pval_S = BiCopHfunc1(pval1, pval2, obj = cop)\n",
    "p0hat = pi_01(pval_S)\n",
    "rej_S2 = (p0hat*n*pval_S/rank(pval_S) <0.10)\n",
    "rej_S = (p0hat*n*pval_S/rank(pval_S) <0.05)\n",
    "\n",
    "## IHW\n",
    "res_ihw <- ihw(pval2 ~ pval1, alpha = 0.05)\n",
    "pval_ihw = adj_pvalues(res_ihw)\n",
    "  \n",
    "rej_ihw = pval_ihw < 0.05\n",
    "rej_ihw2 = pval_ihw < 0.10\n",
    "\n",
    "## BL\n",
    "qvalues <- lm_qvalue(pval2, X=pval1)\n",
    "newp = qvalues$qvalues\n",
    "test = p.adjust(newp,\"BH\")\n",
    "  \n",
    "rej_BL = test < 0.05\n",
    "rej_BL2 = test < 0.10\n",
    "\n",
    "\n",
    "## adaFDR\n",
    "rej_ada <- adafdr_test(pval2, pval1, alpha = 0.05)$decision\n",
    "rej_ada2 <- adafdr_test(pval2, pval1, alpha = 0.10)$decision"
   ]
  },
  {
   "cell_type": "code",
   "execution_count": 294,
   "id": "9d4c0151-44d9-4f55-85ce-f6c930731857",
   "metadata": {},
   "outputs": [
    {
     "data": {
      "text/html": [
       "<style>\n",
       ".dl-inline {width: auto; margin:0; padding: 0}\n",
       ".dl-inline>dt, .dl-inline>dd {float: none; width: auto; display: inline-block}\n",
       ".dl-inline>dt::after {content: \":\\0020\"; padding-right: .5ex}\n",
       ".dl-inline>dt:not(:first-of-type) {padding-left: .5ex}\n",
       "</style><dl class=dl-inline><dt>locfdr</dt><dd>230</dd><dt>storey</dt><dd>361</dd><dt>ihw</dt><dd>486</dd><dt>BL</dt><dd>200</dd><dt>adaFDR</dt><dd>844</dd><dt>typeH</dt><dd>407</dd><dt>typeS</dt><dd>503</dd></dl>\n"
      ],
      "text/latex": [
       "\\begin{description*}\n",
       "\\item[locfdr] 230\n",
       "\\item[storey] 361\n",
       "\\item[ihw] 486\n",
       "\\item[BL] 200\n",
       "\\item[adaFDR] 844\n",
       "\\item[typeH] 407\n",
       "\\item[typeS] 503\n",
       "\\end{description*}\n"
      ],
      "text/markdown": [
       "locfdr\n",
       ":   230storey\n",
       ":   361ihw\n",
       ":   486BL\n",
       ":   200adaFDR\n",
       ":   844typeH\n",
       ":   407typeS\n",
       ":   503\n",
       "\n"
      ],
      "text/plain": [
       "locfdr storey    ihw     BL adaFDR  typeH  typeS \n",
       "   230    361    486    200    844    407    503 "
      ]
     },
     "metadata": {},
     "output_type": "display_data"
    },
    {
     "data": {
      "text/html": [
       "<style>\n",
       ".dl-inline {width: auto; margin:0; padding: 0}\n",
       ".dl-inline>dt, .dl-inline>dd {float: none; width: auto; display: inline-block}\n",
       ".dl-inline>dt::after {content: \":\\0020\"; padding-right: .5ex}\n",
       ".dl-inline>dt:not(:first-of-type) {padding-left: .5ex}\n",
       "</style><dl class=dl-inline><dt>locfdr</dt><dd>249</dd><dt>storey</dt><dd>424</dd><dt>ihw</dt><dd>633</dd><dt>BL</dt><dd>228</dd><dt>adaFDR</dt><dd>1329</dd><dt>typeH</dt><dd>485</dd><dt>typeS</dt><dd>586</dd></dl>\n"
      ],
      "text/latex": [
       "\\begin{description*}\n",
       "\\item[locfdr] 249\n",
       "\\item[storey] 424\n",
       "\\item[ihw] 633\n",
       "\\item[BL] 228\n",
       "\\item[adaFDR] 1329\n",
       "\\item[typeH] 485\n",
       "\\item[typeS] 586\n",
       "\\end{description*}\n"
      ],
      "text/markdown": [
       "locfdr\n",
       ":   249storey\n",
       ":   424ihw\n",
       ":   633BL\n",
       ":   228adaFDR\n",
       ":   1329typeH\n",
       ":   485typeS\n",
       ":   586\n",
       "\n"
      ],
      "text/plain": [
       "locfdr storey    ihw     BL adaFDR  typeH  typeS \n",
       "   249    424    633    228   1329    485    586 "
      ]
     },
     "metadata": {},
     "output_type": "display_data"
    },
    {
     "data": {
      "text/html": [
       "<style>\n",
       ".dl-inline {width: auto; margin:0; padding: 0}\n",
       ".dl-inline>dt, .dl-inline>dd {float: none; width: auto; display: inline-block}\n",
       ".dl-inline>dt::after {content: \":\\0020\"; padding-right: .5ex}\n",
       ".dl-inline>dt:not(:first-of-type) {padding-left: .5ex}\n",
       "</style><dl class=dl-inline><dt>locfdr</dt><dd>3</dd><dt>storey</dt><dd>4</dd><dt>ihw</dt><dd>5</dd><dt>BL</dt><dd>3</dd><dt>adaFDR</dt><dd>6</dd><dt>typeH</dt><dd>3</dd><dt>typeS</dt><dd>4</dd></dl>\n"
      ],
      "text/latex": [
       "\\begin{description*}\n",
       "\\item[locfdr] 3\n",
       "\\item[storey] 4\n",
       "\\item[ihw] 5\n",
       "\\item[BL] 3\n",
       "\\item[adaFDR] 6\n",
       "\\item[typeH] 3\n",
       "\\item[typeS] 4\n",
       "\\end{description*}\n"
      ],
      "text/markdown": [
       "locfdr\n",
       ":   3storey\n",
       ":   4ihw\n",
       ":   5BL\n",
       ":   3adaFDR\n",
       ":   6typeH\n",
       ":   3typeS\n",
       ":   4\n",
       "\n"
      ],
      "text/plain": [
       "locfdr storey    ihw     BL adaFDR  typeH  typeS \n",
       "     3      4      5      3      6      3      4 "
      ]
     },
     "metadata": {},
     "output_type": "display_data"
    },
    {
     "data": {
      "text/html": [
       "<style>\n",
       ".dl-inline {width: auto; margin:0; padding: 0}\n",
       ".dl-inline>dt, .dl-inline>dd {float: none; width: auto; display: inline-block}\n",
       ".dl-inline>dt::after {content: \":\\0020\"; padding-right: .5ex}\n",
       ".dl-inline>dt:not(:first-of-type) {padding-left: .5ex}\n",
       "</style><dl class=dl-inline><dt>locfdr</dt><dd>3</dd><dt>storey</dt><dd>4</dd><dt>ihw</dt><dd>5</dd><dt>BL</dt><dd>3</dd><dt>adaFDR</dt><dd>6</dd><dt>typeH</dt><dd>4</dd><dt>typeS</dt><dd>6</dd></dl>\n"
      ],
      "text/latex": [
       "\\begin{description*}\n",
       "\\item[locfdr] 3\n",
       "\\item[storey] 4\n",
       "\\item[ihw] 5\n",
       "\\item[BL] 3\n",
       "\\item[adaFDR] 6\n",
       "\\item[typeH] 4\n",
       "\\item[typeS] 6\n",
       "\\end{description*}\n"
      ],
      "text/markdown": [
       "locfdr\n",
       ":   3storey\n",
       ":   4ihw\n",
       ":   5BL\n",
       ":   3adaFDR\n",
       ":   6typeH\n",
       ":   4typeS\n",
       ":   6\n",
       "\n"
      ],
      "text/plain": [
       "locfdr storey    ihw     BL adaFDR  typeH  typeS \n",
       "     3      4      5      3      6      4      6 "
      ]
     },
     "metadata": {},
     "output_type": "display_data"
    }
   ],
   "source": [
    "rej1 = data.frame(locfdr = rej_locfdr, storey = rej_Storey, ihw = rej_ihw, BL = rej_BL, adaFDR = rej_ada, typeH = rej_H, typeS = rej_S)\n",
    "rej2 = data.frame(locfdr = rej_locfdr2, storey = rej_Storey2, ihw = rej_ihw2, BL = rej_BL2, adaFDR = rej_ada2, typeH = rej_H2, typeS = rej_S2)\n",
    "apply(rej1, 2, sum) # # of rejected genes with alpha = 0.05\n",
    "apply(rej2, 2, sum) # # of rejected genes with alpha = 0.10\n",
    "apply(rej1, 2, function(x) sum(x[hxtloc])) # # of rejected HXTfamily with alpha = 0.05\n",
    "apply(rej2, 2, function(x) sum(x[hxtloc])) # # of rejected HXTfamily with alpha = 0.10"
   ]
  },
  {
   "cell_type": "markdown",
   "id": "c92438a1-845c-477b-a1c5-f285c32fd5c5",
   "metadata": {},
   "source": [
    "#### Table S1: The number of selected copula based on LogLik, AIC and BIC when generating random variables using the Clayton copula with mean and standard deviation."
   ]
  },
  {
   "cell_type": "code",
   "execution_count": 20,
   "id": "742ca682-ba0d-49c8-ab55-e1810c20b30f",
   "metadata": {},
   "outputs": [],
   "source": [
    "fam = c(1,5,23,24,26)\n",
    "names(fam) = c(\"Gaussian\", \"Frank\", \"Clayton\",\"Gumbel\",\"Joe\")\n",
    "cop = BiCop(23, tau = -0.4)"
   ]
  },
  {
   "cell_type": "code",
   "execution_count": 21,
   "id": "05e40eb2-db2f-429b-8e31-24838eccca8e",
   "metadata": {
    "scrolled": true
   },
   "outputs": [
    {
     "name": "stdout",
     "output_type": "stream",
     "text": [
      "[1] 1\n",
      "[1] 2\n",
      "[1] 3\n",
      "[1] 4\n",
      "[1] 5\n",
      "[1] 6\n",
      "[1] 7\n",
      "[1] 8\n",
      "[1] 9\n",
      "[1] 10\n",
      "[1] 11\n",
      "[1] 12\n",
      "[1] 13\n",
      "[1] 14\n",
      "[1] 15\n",
      "[1] 16\n",
      "[1] 17\n",
      "[1] 18\n",
      "[1] 19\n",
      "[1] 20\n",
      "[1] 21\n",
      "[1] 22\n",
      "[1] 23\n",
      "[1] 24\n",
      "[1] 25\n",
      "[1] 26\n",
      "[1] 27\n",
      "[1] 28\n",
      "[1] 29\n",
      "[1] 30\n",
      "[1] 31\n",
      "[1] 32\n",
      "[1] 33\n",
      "[1] 34\n",
      "[1] 35\n",
      "[1] 36\n",
      "[1] 37\n",
      "[1] 38\n",
      "[1] 39\n",
      "[1] 40\n",
      "[1] 41\n",
      "[1] 42\n",
      "[1] 43\n",
      "[1] 44\n",
      "[1] 45\n",
      "[1] 46\n",
      "[1] 47\n",
      "[1] 48\n",
      "[1] 49\n",
      "[1] 50\n",
      "[1] 51\n",
      "[1] 52\n",
      "[1] 53\n",
      "[1] 54\n",
      "[1] 55\n",
      "[1] 56\n",
      "[1] 57\n",
      "[1] 58\n",
      "[1] 59\n",
      "[1] 60\n",
      "[1] 61\n",
      "[1] 62\n",
      "[1] 63\n",
      "[1] 64\n",
      "[1] 65\n",
      "[1] 66\n",
      "[1] 67\n",
      "[1] 68\n",
      "[1] 69\n",
      "[1] 70\n",
      "[1] 71\n",
      "[1] 72\n",
      "[1] 73\n",
      "[1] 74\n",
      "[1] 75\n",
      "[1] 76\n",
      "[1] 77\n",
      "[1] 78\n",
      "[1] 79\n",
      "[1] 80\n",
      "[1] 81\n",
      "[1] 82\n",
      "[1] 83\n",
      "[1] 84\n",
      "[1] 85\n",
      "[1] 86\n",
      "[1] 87\n",
      "[1] 88\n",
      "[1] 89\n",
      "[1] 90\n",
      "[1] 91\n",
      "[1] 92\n",
      "[1] 93\n",
      "[1] 94\n",
      "[1] 95\n",
      "[1] 96\n",
      "[1] 97\n",
      "[1] 98\n",
      "[1] 99\n",
      "[1] 100\n"
     ]
    }
   ],
   "source": [
    "lik = matrix(0,100,length(fam))\n",
    "aic = matrix(0,100,length(fam))\n",
    "bic = matrix(0,100,length(fam))\n",
    "\n",
    "for(i in 1:100){\n",
    "    set.seed(i)\n",
    "    r = BiCopSim(8000, obj = cop)\n",
    "  for(f in 1:length(fam)){\n",
    "    estcop = BiCopEst(r[,1], r[,2], fam[f])\n",
    "    lik[i,f] = estcop$logLik\n",
    "    aic[i,f] = estcop$AIC\n",
    "    bic[i,f] = estcop$BIC \n",
    "  }\n",
    "}"
   ]
  },
  {
   "cell_type": "code",
   "execution_count": 27,
   "id": "0e91059c-2bd4-4bc6-90ee-c4cc54f99542",
   "metadata": {},
   "outputs": [
    {
     "data": {
      "text/html": [
       "<table class=\"dataframe\">\n",
       "<caption>A matrix: 7 × 2 of type dbl</caption>\n",
       "<tbody>\n",
       "\t<tr><td>1615.157</td><td>57.301</td></tr>\n",
       "\t<tr><td>1524.409</td><td>53.864</td></tr>\n",
       "\t<tr><td>2194.153</td><td>71.345</td></tr>\n",
       "\t<tr><td>1090.186</td><td>50.598</td></tr>\n",
       "\t<tr><td> 501.012</td><td>35.078</td></tr>\n",
       "\t<tr><td>2187.548</td><td>70.794</td></tr>\n",
       "\t<tr><td>2184.828</td><td>71.031</td></tr>\n",
       "</tbody>\n",
       "</table>\n"
      ],
      "text/latex": [
       "A matrix: 7 × 2 of type dbl\n",
       "\\begin{tabular}{ll}\n",
       "\t 1615.157 & 57.301\\\\\n",
       "\t 1524.409 & 53.864\\\\\n",
       "\t 2194.153 & 71.345\\\\\n",
       "\t 1090.186 & 50.598\\\\\n",
       "\t  501.012 & 35.078\\\\\n",
       "\t 2187.548 & 70.794\\\\\n",
       "\t 2184.828 & 71.031\\\\\n",
       "\\end{tabular}\n"
      ],
      "text/markdown": [
       "\n",
       "A matrix: 7 × 2 of type dbl\n",
       "\n",
       "| 1615.157 | 57.301 |\n",
       "| 1524.409 | 53.864 |\n",
       "| 2194.153 | 71.345 |\n",
       "| 1090.186 | 50.598 |\n",
       "|  501.012 | 35.078 |\n",
       "| 2187.548 | 70.794 |\n",
       "| 2184.828 | 71.031 |\n",
       "\n"
      ],
      "text/plain": [
       "     [,1]     [,2]  \n",
       "[1,] 1615.157 57.301\n",
       "[2,] 1524.409 53.864\n",
       "[3,] 2194.153 71.345\n",
       "[4,] 1090.186 50.598\n",
       "[5,]  501.012 35.078\n",
       "[6,] 2187.548 70.794\n",
       "[7,] 2184.828 71.031"
      ]
     },
     "metadata": {},
     "output_type": "display_data"
    },
    {
     "data": {
      "text/html": [
       "<table class=\"dataframe\">\n",
       "<caption>A matrix: 7 × 2 of type dbl</caption>\n",
       "<tbody>\n",
       "\t<tr><td>-3228.315</td><td>114.602</td></tr>\n",
       "\t<tr><td>-3046.818</td><td>107.729</td></tr>\n",
       "\t<tr><td>-4386.307</td><td>142.690</td></tr>\n",
       "\t<tr><td>-2178.372</td><td>101.197</td></tr>\n",
       "\t<tr><td>-1000.024</td><td> 70.156</td></tr>\n",
       "\t<tr><td>-4371.095</td><td>141.589</td></tr>\n",
       "\t<tr><td>-4365.656</td><td>142.062</td></tr>\n",
       "</tbody>\n",
       "</table>\n"
      ],
      "text/latex": [
       "A matrix: 7 × 2 of type dbl\n",
       "\\begin{tabular}{ll}\n",
       "\t -3228.315 & 114.602\\\\\n",
       "\t -3046.818 & 107.729\\\\\n",
       "\t -4386.307 & 142.690\\\\\n",
       "\t -2178.372 & 101.197\\\\\n",
       "\t -1000.024 &  70.156\\\\\n",
       "\t -4371.095 & 141.589\\\\\n",
       "\t -4365.656 & 142.062\\\\\n",
       "\\end{tabular}\n"
      ],
      "text/markdown": [
       "\n",
       "A matrix: 7 × 2 of type dbl\n",
       "\n",
       "| -3228.315 | 114.602 |\n",
       "| -3046.818 | 107.729 |\n",
       "| -4386.307 | 142.690 |\n",
       "| -2178.372 | 101.197 |\n",
       "| -1000.024 |  70.156 |\n",
       "| -4371.095 | 141.589 |\n",
       "| -4365.656 | 142.062 |\n",
       "\n"
      ],
      "text/plain": [
       "     [,1]      [,2]   \n",
       "[1,] -3228.315 114.602\n",
       "[2,] -3046.818 107.729\n",
       "[3,] -4386.307 142.690\n",
       "[4,] -2178.372 101.197\n",
       "[5,] -1000.024  70.156\n",
       "[6,] -4371.095 141.589\n",
       "[7,] -4365.656 142.062"
      ]
     },
     "metadata": {},
     "output_type": "display_data"
    },
    {
     "data": {
      "text/html": [
       "<table class=\"dataframe\">\n",
       "<caption>A matrix: 7 × 2 of type dbl</caption>\n",
       "<tbody>\n",
       "\t<tr><td>-3221.328</td><td>114.602</td></tr>\n",
       "\t<tr><td>-3039.830</td><td>107.729</td></tr>\n",
       "\t<tr><td>-4379.320</td><td>142.690</td></tr>\n",
       "\t<tr><td>-2171.385</td><td>101.197</td></tr>\n",
       "\t<tr><td> -993.037</td><td> 70.156</td></tr>\n",
       "\t<tr><td>-4357.121</td><td>141.589</td></tr>\n",
       "\t<tr><td>-4351.682</td><td>142.062</td></tr>\n",
       "</tbody>\n",
       "</table>\n"
      ],
      "text/latex": [
       "A matrix: 7 × 2 of type dbl\n",
       "\\begin{tabular}{ll}\n",
       "\t -3221.328 & 114.602\\\\\n",
       "\t -3039.830 & 107.729\\\\\n",
       "\t -4379.320 & 142.690\\\\\n",
       "\t -2171.385 & 101.197\\\\\n",
       "\t  -993.037 &  70.156\\\\\n",
       "\t -4357.121 & 141.589\\\\\n",
       "\t -4351.682 & 142.062\\\\\n",
       "\\end{tabular}\n"
      ],
      "text/markdown": [
       "\n",
       "A matrix: 7 × 2 of type dbl\n",
       "\n",
       "| -3221.328 | 114.602 |\n",
       "| -3039.830 | 107.729 |\n",
       "| -4379.320 | 142.690 |\n",
       "| -2171.385 | 101.197 |\n",
       "|  -993.037 |  70.156 |\n",
       "| -4357.121 | 141.589 |\n",
       "| -4351.682 | 142.062 |\n",
       "\n"
      ],
      "text/plain": [
       "     [,1]      [,2]   \n",
       "[1,] -3221.328 114.602\n",
       "[2,] -3039.830 107.729\n",
       "[3,] -4379.320 142.690\n",
       "[4,] -2171.385 101.197\n",
       "[5,]  -993.037  70.156\n",
       "[6,] -4357.121 141.589\n",
       "[7,] -4351.682 142.062"
      ]
     },
     "metadata": {},
     "output_type": "display_data"
    }
   ],
   "source": [
    "t(round(apply(lik, 2, function(x) c(mean(x), sd(x))),3))\n",
    "t(round(apply(aic, 2, function(x) c(mean(x), sd(x))),3))\n",
    "t(round(apply(bic, 2, function(x) c(mean(x), sd(x))),3))"
   ]
  },
  {
   "cell_type": "code",
   "execution_count": 25,
   "id": "3a10b020-ecd8-4eeb-9735-53bdada1e546",
   "metadata": {},
   "outputs": [
    {
     "data": {
      "text/plain": [
       "\n",
       " 3  6 \n",
       "94  6 "
      ]
     },
     "metadata": {},
     "output_type": "display_data"
    },
    {
     "data": {
      "text/plain": [
       "\n",
       " 3  6 \n",
       "96  4 "
      ]
     },
     "metadata": {},
     "output_type": "display_data"
    },
    {
     "data": {
      "text/plain": [
       "\n",
       " 3  6 \n",
       "99  1 "
      ]
     },
     "metadata": {},
     "output_type": "display_data"
    }
   ],
   "source": [
    "table(apply(lik, 1, which.max))\n",
    "table(apply(aic, 1, which.min))\n",
    "table(apply(bic, 1, which.min))"
   ]
  },
  {
   "cell_type": "markdown",
   "id": "55e6bf7a-78e0-4f8c-b7bd-7ab719386e17",
   "metadata": {
    "scrolled": true
   },
   "source": [
    "#### **Table S2** The Log-likelihood, AIC, BIC of Gaussian, Frank, Clayton, Gumbel, BB6, BB7 and Joe copulas with set4∆ dataset"
   ]
  },
  {
   "cell_type": "code",
   "execution_count": 37,
   "id": "6f6ad3e2-271c-4e7f-b1b3-fb5d59e8a61c",
   "metadata": {},
   "outputs": [
    {
     "data": {
      "text/html": [
       "<table class=\"dataframe\">\n",
       "<caption>A data.frame: 5 × 4</caption>\n",
       "<thead>\n",
       "\t<tr><th scope=col>family</th><th scope=col>logLik</th><th scope=col>AIC</th><th scope=col>BIC</th></tr>\n",
       "\t<tr><th scope=col>&lt;chr&gt;</th><th scope=col>&lt;dbl&gt;</th><th scope=col>&lt;dbl&gt;</th><th scope=col>&lt;dbl&gt;</th></tr>\n",
       "</thead>\n",
       "<tbody>\n",
       "\t<tr><td>Gaussian</td><td>1578.79</td><td>-3155.57</td><td>-3148.56</td></tr>\n",
       "\t<tr><td>Frank   </td><td>1486.99</td><td>-2971.97</td><td>-2964.96</td></tr>\n",
       "\t<tr><td>Clayton </td><td> 836.13</td><td>-1670.25</td><td>-1663.24</td></tr>\n",
       "\t<tr><td>Gumbel  </td><td>1199.29</td><td>-2396.58</td><td>-2389.56</td></tr>\n",
       "\t<tr><td>Joe     </td><td> 486.19</td><td> -970.38</td><td> -963.37</td></tr>\n",
       "</tbody>\n",
       "</table>\n"
      ],
      "text/latex": [
       "A data.frame: 5 × 4\n",
       "\\begin{tabular}{llll}\n",
       " family & logLik & AIC & BIC\\\\\n",
       " <chr> & <dbl> & <dbl> & <dbl>\\\\\n",
       "\\hline\n",
       "\t Gaussian & 1578.79 & -3155.57 & -3148.56\\\\\n",
       "\t Frank    & 1486.99 & -2971.97 & -2964.96\\\\\n",
       "\t Clayton  &  836.13 & -1670.25 & -1663.24\\\\\n",
       "\t Gumbel   & 1199.29 & -2396.58 & -2389.56\\\\\n",
       "\t Joe      &  486.19 &  -970.38 &  -963.37\\\\\n",
       "\\end{tabular}\n"
      ],
      "text/markdown": [
       "\n",
       "A data.frame: 5 × 4\n",
       "\n",
       "| family &lt;chr&gt; | logLik &lt;dbl&gt; | AIC &lt;dbl&gt; | BIC &lt;dbl&gt; |\n",
       "|---|---|---|---|\n",
       "| Gaussian | 1578.79 | -3155.57 | -3148.56 |\n",
       "| Frank    | 1486.99 | -2971.97 | -2964.96 |\n",
       "| Clayton  |  836.13 | -1670.25 | -1663.24 |\n",
       "| Gumbel   | 1199.29 | -2396.58 | -2389.56 |\n",
       "| Joe      |  486.19 |  -970.38 |  -963.37 |\n",
       "\n"
      ],
      "text/plain": [
       "  family   logLik  AIC      BIC     \n",
       "1 Gaussian 1578.79 -3155.57 -3148.56\n",
       "2 Frank    1486.99 -2971.97 -2964.96\n",
       "3 Clayton   836.13 -1670.25 -1663.24\n",
       "4 Gumbel   1199.29 -2396.58 -2389.56\n",
       "5 Joe       486.19  -970.38  -963.37"
      ]
     },
     "metadata": {},
     "output_type": "display_data"
    }
   ],
   "source": [
    "aa = BiCopEstList(pval1_deseq, pval2, family = c(1,5,23,24,26), rotations = F)$summary\n",
    "aa$family = c(\"Gaussian\", \"Frank\", \"Clayton\",\"Gumbel\", \"Joe\")\n",
    "aa"
   ]
  }
 ],
 "metadata": {
  "kernelspec": {
   "display_name": "R",
   "language": "R",
   "name": "ir"
  },
  "language_info": {
   "codemirror_mode": "r",
   "file_extension": ".r",
   "mimetype": "text/x-r-source",
   "name": "R",
   "pygments_lexer": "r",
   "version": "4.4.0"
  }
 },
 "nbformat": 4,
 "nbformat_minor": 5
}
