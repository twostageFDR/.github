{
 "cells": [
  {
   "cell_type": "markdown",
   "id": "d0e4a151-6866-4421-9a3f-7a032ffb39ac",
   "metadata": {},
   "source": [
    "## Tables\n",
    "* Assume that [set4delta.csv] file is located in the same directory.\n",
    "* \"datacall.r\" file preprocess the [set4delta.csv] dataset. (source(\"datacall.r\") would take few minutes)\n",
    "* functions for replicating the results in simulation studies are coded in \"simulation.r\"."
   ]
  },
  {
   "cell_type": "code",
   "execution_count": 1,
   "id": "72522943-dfbe-4f39-976f-095d13ab7c79",
   "metadata": {},
   "outputs": [],
   "source": [
    "myfile<-read.csv(\"set4delta.csv\")\n",
    "lfc = myfile$realdata"
   ]
  },
  {
   "cell_type": "code",
   "execution_count": 36,
   "id": "4d6b7ffb-909e-457a-85c0-c388349af5b0",
   "metadata": {},
   "outputs": [],
   "source": [
    "source(\"datacall.r\")\n",
    "source(\"simulation_functions.r\")"
   ]
  },
  {
   "cell_type": "markdown",
   "id": "16d0a0da-a863-4d34-8db1-a6d011aee34c",
   "metadata": {},
   "source": [
    "#### Simulation for **Table 1** \n",
    "* with sample size(n) 8000\n",
    "* differentiating the correlations of primary p-values and auxiliary p-values by [0.0, 0.2, 0.4, 0.6, 0.8]\n",
    "* differentiating the distance between null($N(0,1)$) and alternative($N(mm, 1)$) distributions.\n",
    "* This will take few hours."
   ]
  },
  {
   "cell_type": "code",
   "execution_count": 3,
   "id": "e94dd101-2820-4696-9b4e-b23c5bfeaf02",
   "metadata": {},
   "outputs": [],
   "source": [
    "n = 8000\n",
    "taus = c(0, 0.2, 0.4, 0.6, 0.8)\n",
    "mms = c(2.0, 2.5, 3.0, 3.5, 4.0)"
   ]
  },
  {
   "cell_type": "code",
   "execution_count": null,
   "id": "46bb5a43-9dad-48c8-b8ab-64db73393ea7",
   "metadata": {
    "scrolled": true
   },
   "outputs": [],
   "source": [
    "n = 8000\n",
    "\n",
    "for(tau in c(0, 0.2,0.4, 0.6, 0.8)){\n",
    "  print(paste(c(\"now the tau is\", tau)))\n",
    "  \n",
    "  simres = array(0.0, c(2, 27, 1000) )\n",
    "  if(tau==0){\n",
    "    cop = BiCop(0)\n",
    "  }else{\n",
    "    cop = BiCop(3, tau = tau)\n",
    "  }\n",
    "  \n",
    "  for(i in 1:1000){\n",
    "    simdat = simgen(i, n, cop)\n",
    "    res = test_all(simdat)\n",
    "    simres[,,i] = res\n",
    "    if(i%%10==0) print(res[1,])\n",
    "  }\n",
    "  assign(paste0(\"tau_\",tau), simres)\n",
    "  #saveRDS(simres, paste0(\"cop23_tau\",tau,\"_mm2_sd1.rds\"))\n",
    "}\n",
    "\n",
    "for(mm in c(2.0, 2.5, 3.0, 3.5, 4.0)){\n",
    "  print(paste(c(\"now the mu is\", mm)))\n",
    "  \n",
    "  simres = array(0.0, c(2, 21, 1000))\n",
    "  if(tau==0){\n",
    "    cop = BiCop(0)\n",
    "  }else{\n",
    "    cop = BiCop(3, tau = 0.4)\n",
    "  }\n",
    "  \n",
    "  for(i in 1:1000){\n",
    "    simdat = simgen(i, n, cop, mm=mm)\n",
    "    res = test_all(simdat)\n",
    "    simres[,,i] = res\n",
    "    if(i%%100==0) print(res[1,])\n",
    "  }\n",
    "  assign(paste0(\"mm_\",mm), simres)\n",
    "  #saveRDS(simres, paste0(\"cop23_tau\",tau,\"_mm2_sd1.rds\"))\n",
    "}"
   ]
  },
  {
   "cell_type": "code",
   "execution_count": null,
   "id": "a500e211-64ce-42bb-a4c6-2b9697c7c2cf",
   "metadata": {},
   "outputs": [],
   "source": [
    "fdr_tbl = array(NA, dim = c(7,4,5))\n",
    "power_tbl = fdr_tbl\n",
    "\n",
    "i = 1\n",
    "\n",
    "for(tau in c(0,0.2,0.4,0.6,0.8)){\n",
    "  mat = get(paste0(\"tau_\",tau))\n",
    "  fdr_tbl[,,i] = fdr_and_power(mat)$fdr\n",
    "  power_tbl[,,i] = fdr_and_power(mat)$power\n",
    "  i = i+1\n",
    "}\n",
    "\n",
    "saveRDS(fdr_tbl, \"fdr_diff_tau.rds\")\n",
    "saveRDS(power_tbl, \"power_diff_tau.rds\")\n",
    "\n",
    "fdr_tbl2 = array(NA, dim = c(7,4,5))\n",
    "power_tbl2 = fdr_tbl\n",
    "\n",
    "i = 1\n",
    "\n",
    "for(mu in c(2, 2.5, 3, 3.5, 4)){\n",
    "  mat = get(paste0(\"mm_\",mu))\n",
    "  fdr_tbl2[,,i] = fdr_and_power(mat)$fdr\n",
    "  power_tbl2[,,i] = fdr_and_power(mat)$power\n",
    "  i = i+1\n",
    "}\n",
    "\n",
    "saveRDS(fdr_tbl2, \"fdr_diff_mu.rds\")\n",
    "saveRDS(power_tbl2, \"power_diff_mu.rds\")"
   ]
  },
  {
   "cell_type": "code",
   "execution_count": null,
   "id": "b33b1826-f18d-4fa7-a291-16d70a75c55a",
   "metadata": {},
   "outputs": [],
   "source": [
    "fdr_tbl"
   ]
  },
  {
   "cell_type": "code",
   "execution_count": null,
   "id": "fc9956e5-5051-451f-9690-7d3422b273a7",
   "metadata": {},
   "outputs": [],
   "source": [
    "power_tbl"
   ]
  },
  {
   "cell_type": "code",
   "execution_count": null,
   "id": "88c5a537-6a35-4505-a86a-beef81ce809f",
   "metadata": {},
   "outputs": [],
   "source": [
    "fdr_tbl2"
   ]
  },
  {
   "cell_type": "code",
   "execution_count": null,
   "id": "ff680138-4c2d-4a83-bd49-bd8f3b7037a8",
   "metadata": {},
   "outputs": [],
   "source": [
    "power_tbl2"
   ]
  },
  {
   "cell_type": "markdown",
   "id": "56c4ead7-79a4-47a6-b6a8-15e81ef9eec4",
   "metadata": {},
   "source": [
    "#### Simulation for **Table 2** \n",
    "* with sample size(n) 8000\n",
    "* the correlations of primary p-values and auxiliary p-values is set to be 0.4\n",
    "* the distance between null($N(0,1)$) and alternative($N(3, 1)$) distributions.\n",
    "* compared with Misspecified copula : BB7, BB6 and Joe copulas\n",
    "* This will take few hours."
   ]
  },
  {
   "cell_type": "code",
   "execution_count": null,
   "id": "0a34ba48-61fa-43be-b8bf-244b7a428c08",
   "metadata": {},
   "outputs": [],
   "source": [
    "miscop = c(39, 38,36) #BB7, BB6, Joe\n",
    "for(c in miscop){\n",
    "  print(paste(c(\"now the cop is\", c)))\n",
    "  cop = BiCop(3, tau = 0.4)\n",
    "  simres = array(0.0, c(2, 21, 1000) )\n",
    "  for(i in 1:1000){\n",
    "    simdat = simgen(i, n, cop)\n",
    "    res = test_all(simdat, copnum = c)\n",
    "    simres[,,i] = res\n",
    "    if(i%%100==0) print(res[1,1:21])\n",
    "  }\n",
    "  assign(paste0(\"misfit_\",c), simres)\n",
    "}"
   ]
  },
  {
   "cell_type": "code",
   "execution_count": null,
   "id": "0afeb6ff-f991-4b1c-abfc-6cd6238839d3",
   "metadata": {},
   "outputs": [],
   "source": [
    "miscop = c(39, 38,36) #BB7, BB6, Joe\n",
    "for(c in miscop){\n",
    "  print(paste(c(\"now the cop is\", c)))\n",
    "  testcop = BiCop(3, tau = 0.4)\n",
    "  simres = array(0.0, c(2, 21, 1000))\n",
    "  for(i in 1:1000){\n",
    "    set.seed(i)\n",
    "    rr = BiCopSim(n, obj = testcop)\n",
    "    cop = BiCopEst(rr[,1], rr[,2], c)\n",
    "    simdat = simgen(i, n, cop)\n",
    "    res = test_all(simdat)\n",
    "    simres[,,i] = res\n",
    "    if(i%%100==0) print(res[1,1:21])\n",
    "  }\n",
    "  assign(paste0(\"misgen_\",c), simres)\n",
    "}"
   ]
  },
  {
   "cell_type": "code",
   "execution_count": null,
   "id": "4a18d949-117e-4a29-924a-cb4ba0175c9d",
   "metadata": {},
   "outputs": [],
   "source": [
    "fdr_tbl3 = array(NA, dim = c(7,4,5))\n",
    "power_tbl3 = fdr_tbl\n",
    "\n",
    "i = 1\n",
    "\n",
    "for(c in miscop){\n",
    "  mat = get(paste0(\"misfit_\",c))\n",
    "  fdr_tbl3[,,i] = fdr_and_power(mat)$fdr\n",
    "  power_tbl3[,,i] = fdr_and_power(mat)$power\n",
    "  i = i+1\n",
    "}\n",
    "\n",
    "saveRDS(fdr_tbl3, \"fdr_misfit.rds\")\n",
    "saveRDS(power_tbl3, \"power_misfit.rds\")\n",
    "\n",
    "\n",
    "\n",
    "\n",
    "\n",
    "fdr_tbl4 = array(NA, dim = c(7,4,5))\n",
    "power_tbl4 = fdr_tbl\n",
    "\n",
    "i = 1\n",
    "\n",
    "for(c in miscop){\n",
    "  mat = get(paste0(\"misgen_\",c))\n",
    "  fdr_tbl4[,,i] = fdr_and_power(mat)$fdr\n",
    "  power_tbl4[,,i] = fdr_and_power(mat)$power\n",
    "  i = i+1\n",
    "}\n",
    "\n",
    "saveRDS(fdr_tbl4, \"fdr_misgen.rds\")\n",
    "saveRDS(power_tbl4, \"power_misgen.rds\")"
   ]
  },
  {
   "cell_type": "code",
   "execution_count": null,
   "id": "9f1cf8df-85fe-4341-92d1-02eae2ab2bf9",
   "metadata": {},
   "outputs": [],
   "source": [
    "fdr_tbl3"
   ]
  },
  {
   "cell_type": "code",
   "execution_count": null,
   "id": "e95ac0b3-e566-464e-8f89-81cc8fd00341",
   "metadata": {},
   "outputs": [],
   "source": [
    "power_tbl3"
   ]
  },
  {
   "cell_type": "code",
   "execution_count": null,
   "id": "329c255c-a77c-4f19-9aa8-3d5a342dc076",
   "metadata": {},
   "outputs": [],
   "source": [
    "fdr_tbl3"
   ]
  },
  {
   "cell_type": "code",
   "execution_count": null,
   "id": "864f212f-62fb-4f98-a93c-26064666d3e6",
   "metadata": {},
   "outputs": [],
   "source": [
    "power_tbl4"
   ]
  },
  {
   "cell_type": "markdown",
   "id": "318d5547-560c-4e68-80fa-56b75792bb84",
   "metadata": {},
   "source": [
    "#### **Table 3** The Log-likelihood, AIC, BIC of Gaussian, Frank, Clayton, Gumbel copulas with set4∆ dataset"
   ]
  },
  {
   "cell_type": "code",
   "execution_count": 3,
   "id": "1e916bcf-e87a-4501-9dff-a86e625298b7",
   "metadata": {},
   "outputs": [
    {
     "data": {
      "text/html": [
       "-0.386232531158245"
      ],
      "text/latex": [
       "-0.386232531158245"
      ],
      "text/markdown": [
       "-0.386232531158245"
      ],
      "text/plain": [
       "[1] -0.3862325"
      ]
     },
     "metadata": {},
     "output_type": "display_data"
    }
   ],
   "source": [
    "tau = wdm(pval1, pval2, \"kendall\"); tau\n",
    "cop = BiCop(23, tau = tau)"
   ]
  },
  {
   "cell_type": "code",
   "execution_count": 4,
   "id": "dffe9f67-5387-4349-b5ff-2f11beb2f991",
   "metadata": {},
   "outputs": [],
   "source": [
    "pval11 = pval1[pval1 + pval2 >= 1]\n",
    "pval22 = pval2[pval1 + pval2 >= 1]\n",
    "pval111 = c(pval11, 1-pval22)\n",
    "pval222 = c(pval22, 1-pval11)"
   ]
  },
  {
   "cell_type": "code",
   "execution_count": 5,
   "id": "e0d9647b-36cc-4ead-9588-1db9eec62ae4",
   "metadata": {},
   "outputs": [
    {
     "data": {
      "text/html": [
       "<table class=\"dataframe\">\n",
       "<caption>A data.frame: 5 × 4</caption>\n",
       "<thead>\n",
       "\t<tr><th scope=col>family</th><th scope=col>logLik</th><th scope=col>AIC</th><th scope=col>BIC</th></tr>\n",
       "\t<tr><th scope=col>&lt;chr&gt;</th><th scope=col>&lt;dbl&gt;</th><th scope=col>&lt;dbl&gt;</th><th scope=col>&lt;dbl&gt;</th></tr>\n",
       "</thead>\n",
       "<tbody>\n",
       "\t<tr><td>Gaussian</td><td>306.45</td><td>-610.91</td><td>-604.80</td></tr>\n",
       "\t<tr><td>Frank   </td><td>332.84</td><td>-663.68</td><td>-657.57</td></tr>\n",
       "\t<tr><td>Clayton </td><td>393.08</td><td>-784.16</td><td>-778.05</td></tr>\n",
       "\t<tr><td>Gumbel  </td><td>201.79</td><td>-401.57</td><td>-395.46</td></tr>\n",
       "\t<tr><td>Joe     </td><td> 96.29</td><td>-190.57</td><td>-184.46</td></tr>\n",
       "</tbody>\n",
       "</table>\n"
      ],
      "text/latex": [
       "A data.frame: 5 × 4\n",
       "\\begin{tabular}{llll}\n",
       " family & logLik & AIC & BIC\\\\\n",
       " <chr> & <dbl> & <dbl> & <dbl>\\\\\n",
       "\\hline\n",
       "\t Gaussian & 306.45 & -610.91 & -604.80\\\\\n",
       "\t Frank    & 332.84 & -663.68 & -657.57\\\\\n",
       "\t Clayton  & 393.08 & -784.16 & -778.05\\\\\n",
       "\t Gumbel   & 201.79 & -401.57 & -395.46\\\\\n",
       "\t Joe      &  96.29 & -190.57 & -184.46\\\\\n",
       "\\end{tabular}\n"
      ],
      "text/markdown": [
       "\n",
       "A data.frame: 5 × 4\n",
       "\n",
       "| family &lt;chr&gt; | logLik &lt;dbl&gt; | AIC &lt;dbl&gt; | BIC &lt;dbl&gt; |\n",
       "|---|---|---|---|\n",
       "| Gaussian | 306.45 | -610.91 | -604.80 |\n",
       "| Frank    | 332.84 | -663.68 | -657.57 |\n",
       "| Clayton  | 393.08 | -784.16 | -778.05 |\n",
       "| Gumbel   | 201.79 | -401.57 | -395.46 |\n",
       "| Joe      |  96.29 | -190.57 | -184.46 |\n",
       "\n"
      ],
      "text/plain": [
       "  family   logLik AIC     BIC    \n",
       "1 Gaussian 306.45 -610.91 -604.80\n",
       "2 Frank    332.84 -663.68 -657.57\n",
       "3 Clayton  393.08 -784.16 -778.05\n",
       "4 Gumbel   201.79 -401.57 -395.46\n",
       "5 Joe       96.29 -190.57 -184.46"
      ]
     },
     "metadata": {},
     "output_type": "display_data"
    }
   ],
   "source": [
    "aa = BiCopEstList(pval11, pval22, c(1,5,23,24,26), rotations = F)$summary\n",
    "aa$family = c(\"Gaussian\", \"Frank\", \"Clayton\",\"Gumbel\", \"Joe\"); aa"
   ]
  },
  {
   "cell_type": "markdown",
   "id": "fe6ddd08-0d62-40dd-bdb2-0d138bdd2e66",
   "metadata": {},
   "source": [
    "#### **Table4** Comparison of total and HXT family gene rejections using one-stage (locfdr, Storey), covarate-assisted (IHW, Boca and Leek, AdaFDR) and two-stage (types H and S) FDR methods at α = 0.05 and α = 0.10."
   ]
  },
  {
   "cell_type": "code",
   "execution_count": 7,
   "id": "99b93ff8-afe9-420c-affc-56a90dcc9a8a",
   "metadata": {
    "scrolled": true
   },
   "outputs": [
    {
     "data": {
      "text/html": [
       "0.987"
      ],
      "text/latex": [
       "0.987"
      ],
      "text/markdown": [
       "0.987"
      ],
      "text/plain": [
       "[1] 0.987"
      ]
     },
     "metadata": {},
     "output_type": "display_data"
    },
    {
     "name": "stderr",
     "output_type": "stream",
     "text": [
      "Warning message in glm.fit(x = structure(numeric(0), dim = c(0L, 2L), dimnames = list(:\n",
      "“no observations informative at iteration 1”\n",
      "Warning message:\n",
      "“glm.fit: algorithm did not converge”\n"
     ]
    },
    {
     "ename": "ERROR",
     "evalue": "Error in glm.fit(x = structure(numeric(0), dim = c(0L, 2L), dimnames = list(: object 'fit' not found\n",
     "output_type": "error",
     "traceback": [
      "Error in glm.fit(x = structure(numeric(0), dim = c(0L, 2L), dimnames = list(: object 'fit' not found\nTraceback:\n",
      "1. FDRreg(lfc, x1)",
      "2. fdr_regression(x2, x1)",
      "3. glm(log_ratio ~ X, family = gaussian())",
      "4. eval(call(if (is.function(method)) \"method\" else method, x = X, \n .     y = Y, weights = weights, start = start, etastart = etastart, \n .     mustart = mustart, offset = offset, family = family, control = control, \n .     intercept = attr(mt, \"intercept\") > 0L, singular.ok = singular.ok))",
      "5. eval(call(if (is.function(method)) \"method\" else method, x = X, \n .     y = Y, weights = weights, start = start, etastart = etastart, \n .     mustart = mustart, offset = offset, family = family, control = control, \n .     intercept = attr(mt, \"intercept\") > 0L, singular.ok = singular.ok))",
      "6. glm.fit(x = structure(numeric(0), dim = c(0L, 2L), dimnames = list(\n .     NULL, c(\"(Intercept)\", \"X\")), assign = 0:1), y = numeric(0), \n .     weights = NULL, start = NULL, etastart = NULL, mustart = NULL, \n .     offset = NULL, family = structure(list(family = \"gaussian\", \n .         link = \"identity\", linkfun = function (mu) \n .         mu, linkinv = function (eta) \n .         eta, variance = function (mu) \n .         rep.int(1, length(mu)), dev.resids = function (y, mu, \n .             wt) \n .         wt * ((y - mu)^2), aic = function (y, n, mu, wt, dev) \n .         {\n .             nobs <- length(y)\n .             nobs * (log(dev/nobs * 2 * pi) + 1) + 2 - sum(log(wt))\n .         }, mu.eta = function (eta) \n .         rep.int(1, length(eta)), initialize = expression({\n .             n <- rep.int(1, nobs)\n .             if (is.null(etastart) && is.null(start) && is.null(mustart) && \n .                 ((family$link == \"inverse\" && any(y == 0)) || \n .                   (family$link == \"log\" && any(y <= 0)))) \n .                 stop(\"cannot find valid starting values: please specify some\")\n .             mustart <- y\n .         }), validmu = function (mu) \n .         TRUE, valideta = function (eta) \n .         TRUE, dispersion = NA_real_), class = \"family\"), control = list(\n .         epsilon = 1e-08, maxit = 25, trace = FALSE), intercept = TRUE, \n .     singular.ok = TRUE)"
     ]
    }
   ],
   "source": [
    "## locfdr\n",
    "rej_locfdr = (p0hat*f0/f < 0.05)\n",
    "rej_locfdr2 = (p0hat*f0/f < 0.1)\n",
    "\n",
    "\n",
    "## Storey\n",
    "p0 = pi_01(pval2)\n",
    "rej_Storey = (p0*n*pval2/rank(pval2) <0.05)\n",
    "rej_Storey2 = (p0*n*pval2/rank(pval2) <0.1)\n",
    "\n",
    "## Two-stage (H)\n",
    "gamma_seq = seq(0.5,1,0.001)\n",
    "tau = wdm(pval1, pval2, \"kendall\")\n",
    "cop = BiCop(23, tau = tau)\n",
    "\n",
    "nrej = sapply(gamma_seq, function(x){\n",
    "  pv = BiCopCDF(rep(x, n), pval2, obj = cop)\n",
    "  pv = ifelse(pval1>x, pval1, pv)\n",
    "  p0 = pi_01(pv)\n",
    "  nr =  sum(p0*n*pv/rank(pv) <0.10)\n",
    "  return(nr)\n",
    "})\n",
    "\n",
    "\n",
    "gamma = gamma_seq[which.max(nrej)]; gamma\n",
    "\n",
    "pv = BiCopCDF(rep(gamma, n), pval2, obj = cop)\n",
    "pval_H = ifelse(pval1>gamma, pval1, pv)\n",
    "p0 = pi_01(pval_H)\n",
    "rej_H = (p0*n*pval_H/rank(pval_H) <0.05)\n",
    "rej_H2 = (p0*n*pval_H/rank(pval_H) <0.10)\n",
    "\n",
    "## Two-stage (S)\n",
    "pval_S = BiCopHfunc1(pval1, pval2, obj = cop)\n",
    "p0hat = pi_01(pval_S)\n",
    "rej_S2 = (p0hat*n*pval_S/rank(pval_S) <0.10)\n",
    "rej_S = (p0hat*n*pval_S/rank(pval_S) <0.05)\n",
    "\n",
    "## IHW\n",
    "res_ihw <- ihw(pval2 ~ pval1, alpha = 0.05)\n",
    "pval_ihw = adj_pvalues(res_ihw)\n",
    "  \n",
    "rej_ihw = pval_ihw < 0.05\n",
    "rej_ihw2 = pval_ihw < 0.10\n",
    "\n",
    "## BL\n",
    "qvalues <- lm_qvalue(pval2, X=pval1)\n",
    "newp = qvalues$qvalues\n",
    "test = p.adjust(newp,\"BH\")\n",
    "  \n",
    "rej_BL = test < 0.05\n",
    "rej_BL2 = test < 0.10\n",
    "\n",
    "\n",
    "## adaFDR\n",
    "rej_ada <- adafdr_test(pval2, pval1, alpha = 0.05)$decision\n",
    "rej_ada2 <- adafdr_test(pval2, pval1, alpha = 0.10)$decision\n",
    "\n",
    "\n",
    "## FDRreg\n",
    "rejs <- FDRreg(x1, lfc)\n",
    "rej_FDRreg <- rejs$d1\n",
    "rej_FDRreg2 <- rejs$d2\n",
    "\n",
    "## SIM\n",
    "\n",
    "rejs <- SIM(p1,p2)\n",
    "rej_SIM <- rejs$d1\n",
    "rej_SIM2 <- rejs$d2"
   ]
  },
  {
   "cell_type": "code",
   "execution_count": 37,
   "id": "82b26b50-9532-4646-9e96-3ff225c79b65",
   "metadata": {},
   "outputs": [],
   "source": [
    "## FDRreg\n",
    "rejs <- FDRreg(x1, lfc)\n",
    "rej_FDRreg <- rejs$d1\n",
    "rej_FDRreg2 <- rejs$d2"
   ]
  },
  {
   "cell_type": "code",
   "execution_count": 39,
   "id": "9d4c0151-44d9-4f55-85ce-f6c930731857",
   "metadata": {},
   "outputs": [
    {
     "data": {
      "text/html": [
       "<style>\n",
       ".dl-inline {width: auto; margin:0; padding: 0}\n",
       ".dl-inline>dt, .dl-inline>dd {float: none; width: auto; display: inline-block}\n",
       ".dl-inline>dt::after {content: \":\\0020\"; padding-right: .5ex}\n",
       ".dl-inline>dt:not(:first-of-type) {padding-left: .5ex}\n",
       "</style><dl class=dl-inline><dt>locfdr</dt><dd>233</dd><dt>storey</dt><dd>361</dd><dt>ihw</dt><dd>486</dd><dt>BL</dt><dd>200</dd><dt>adaFDR</dt><dd>844</dd><dt>FDRreg</dt><dd>0</dd><dt>SIM</dt><dd>345</dd><dt>typeH</dt><dd>407</dd><dt>typeS</dt><dd>503</dd></dl>\n"
      ],
      "text/latex": [
       "\\begin{description*}\n",
       "\\item[locfdr] 233\n",
       "\\item[storey] 361\n",
       "\\item[ihw] 486\n",
       "\\item[BL] 200\n",
       "\\item[adaFDR] 844\n",
       "\\item[FDRreg] 0\n",
       "\\item[SIM] 345\n",
       "\\item[typeH] 407\n",
       "\\item[typeS] 503\n",
       "\\end{description*}\n"
      ],
      "text/markdown": [
       "locfdr\n",
       ":   233storey\n",
       ":   361ihw\n",
       ":   486BL\n",
       ":   200adaFDR\n",
       ":   844FDRreg\n",
       ":   0SIM\n",
       ":   345typeH\n",
       ":   407typeS\n",
       ":   503\n",
       "\n"
      ],
      "text/plain": [
       "locfdr storey    ihw     BL adaFDR FDRreg    SIM  typeH  typeS \n",
       "   233    361    486    200    844      0    345    407    503 "
      ]
     },
     "metadata": {},
     "output_type": "display_data"
    },
    {
     "data": {
      "text/html": [
       "<style>\n",
       ".dl-inline {width: auto; margin:0; padding: 0}\n",
       ".dl-inline>dt, .dl-inline>dd {float: none; width: auto; display: inline-block}\n",
       ".dl-inline>dt::after {content: \":\\0020\"; padding-right: .5ex}\n",
       ".dl-inline>dt:not(:first-of-type) {padding-left: .5ex}\n",
       "</style><dl class=dl-inline><dt>locfdr</dt><dd>258</dd><dt>storey</dt><dd>424</dd><dt>ihw</dt><dd>633</dd><dt>BL</dt><dd>228</dd><dt>adaFDR</dt><dd>1329</dd><dt>FDRreg</dt><dd>0</dd><dt>SIM</dt><dd>438</dd><dt>typeH</dt><dd>485</dd><dt>typeS</dt><dd>586</dd></dl>\n"
      ],
      "text/latex": [
       "\\begin{description*}\n",
       "\\item[locfdr] 258\n",
       "\\item[storey] 424\n",
       "\\item[ihw] 633\n",
       "\\item[BL] 228\n",
       "\\item[adaFDR] 1329\n",
       "\\item[FDRreg] 0\n",
       "\\item[SIM] 438\n",
       "\\item[typeH] 485\n",
       "\\item[typeS] 586\n",
       "\\end{description*}\n"
      ],
      "text/markdown": [
       "locfdr\n",
       ":   258storey\n",
       ":   424ihw\n",
       ":   633BL\n",
       ":   228adaFDR\n",
       ":   1329FDRreg\n",
       ":   0SIM\n",
       ":   438typeH\n",
       ":   485typeS\n",
       ":   586\n",
       "\n"
      ],
      "text/plain": [
       "locfdr storey    ihw     BL adaFDR FDRreg    SIM  typeH  typeS \n",
       "   258    424    633    228   1329      0    438    485    586 "
      ]
     },
     "metadata": {},
     "output_type": "display_data"
    },
    {
     "data": {
      "text/html": [
       "<style>\n",
       ".dl-inline {width: auto; margin:0; padding: 0}\n",
       ".dl-inline>dt, .dl-inline>dd {float: none; width: auto; display: inline-block}\n",
       ".dl-inline>dt::after {content: \":\\0020\"; padding-right: .5ex}\n",
       ".dl-inline>dt:not(:first-of-type) {padding-left: .5ex}\n",
       "</style><dl class=dl-inline><dt>locfdr</dt><dd>3</dd><dt>storey</dt><dd>4</dd><dt>ihw</dt><dd>5</dd><dt>BL</dt><dd>3</dd><dt>adaFDR</dt><dd>6</dd><dt>FDRreg</dt><dd>0</dd><dt>SIM</dt><dd>4</dd><dt>typeH</dt><dd>3</dd><dt>typeS</dt><dd>4</dd></dl>\n"
      ],
      "text/latex": [
       "\\begin{description*}\n",
       "\\item[locfdr] 3\n",
       "\\item[storey] 4\n",
       "\\item[ihw] 5\n",
       "\\item[BL] 3\n",
       "\\item[adaFDR] 6\n",
       "\\item[FDRreg] 0\n",
       "\\item[SIM] 4\n",
       "\\item[typeH] 3\n",
       "\\item[typeS] 4\n",
       "\\end{description*}\n"
      ],
      "text/markdown": [
       "locfdr\n",
       ":   3storey\n",
       ":   4ihw\n",
       ":   5BL\n",
       ":   3adaFDR\n",
       ":   6FDRreg\n",
       ":   0SIM\n",
       ":   4typeH\n",
       ":   3typeS\n",
       ":   4\n",
       "\n"
      ],
      "text/plain": [
       "locfdr storey    ihw     BL adaFDR FDRreg    SIM  typeH  typeS \n",
       "     3      4      5      3      6      0      4      3      4 "
      ]
     },
     "metadata": {},
     "output_type": "display_data"
    },
    {
     "data": {
      "text/html": [
       "<style>\n",
       ".dl-inline {width: auto; margin:0; padding: 0}\n",
       ".dl-inline>dt, .dl-inline>dd {float: none; width: auto; display: inline-block}\n",
       ".dl-inline>dt::after {content: \":\\0020\"; padding-right: .5ex}\n",
       ".dl-inline>dt:not(:first-of-type) {padding-left: .5ex}\n",
       "</style><dl class=dl-inline><dt>locfdr</dt><dd>3</dd><dt>storey</dt><dd>4</dd><dt>ihw</dt><dd>5</dd><dt>BL</dt><dd>3</dd><dt>adaFDR</dt><dd>6</dd><dt>FDRreg</dt><dd>0</dd><dt>SIM</dt><dd>4</dd><dt>typeH</dt><dd>4</dd><dt>typeS</dt><dd>6</dd></dl>\n"
      ],
      "text/latex": [
       "\\begin{description*}\n",
       "\\item[locfdr] 3\n",
       "\\item[storey] 4\n",
       "\\item[ihw] 5\n",
       "\\item[BL] 3\n",
       "\\item[adaFDR] 6\n",
       "\\item[FDRreg] 0\n",
       "\\item[SIM] 4\n",
       "\\item[typeH] 4\n",
       "\\item[typeS] 6\n",
       "\\end{description*}\n"
      ],
      "text/markdown": [
       "locfdr\n",
       ":   3storey\n",
       ":   4ihw\n",
       ":   5BL\n",
       ":   3adaFDR\n",
       ":   6FDRreg\n",
       ":   0SIM\n",
       ":   4typeH\n",
       ":   4typeS\n",
       ":   6\n",
       "\n"
      ],
      "text/plain": [
       "locfdr storey    ihw     BL adaFDR FDRreg    SIM  typeH  typeS \n",
       "     3      4      5      3      6      0      4      4      6 "
      ]
     },
     "metadata": {},
     "output_type": "display_data"
    }
   ],
   "source": [
    "rej1 = data.frame(locfdr = rej_locfdr, storey = rej_Storey, ihw = rej_ihw, BL = rej_BL, adaFDR = rej_ada, FDRreg = rej_FDRreg, SIM = rej_SIM,typeH = rej_H, typeS = rej_S)\n",
    "rej2 = data.frame(locfdr = rej_locfdr2, storey = rej_Storey2, ihw = rej_ihw2, BL = rej_BL2, adaFDR = rej_ada2,FDRreg = rej_FDRreg2, SIM = rej_SIM2, typeH = rej_H2, typeS = rej_S2)\n",
    "apply(rej1, 2, sum) # # of rejected genes with alpha = 0.05\n",
    "apply(rej2, 2, sum) # # of rejected genes with alpha = 0.10\n",
    "apply(rej1, 2, function(x) sum(x[hxtloc])) # # of rejected HXTfamily with alpha = 0.05\n",
    "apply(rej2, 2, function(x) sum(x[hxtloc])) # # of rejected HXTfamily with alpha = 0.10"
   ]
  },
  {
   "cell_type": "markdown",
   "id": "c92438a1-845c-477b-a1c5-f285c32fd5c5",
   "metadata": {},
   "source": [
    "#### Table S1: The number of selected copula based on LogLik, AIC and BIC when generating random variables using the Clayton copula with mean and standard deviation."
   ]
  },
  {
   "cell_type": "code",
   "execution_count": 8,
   "id": "742ca682-ba0d-49c8-ab55-e1810c20b30f",
   "metadata": {},
   "outputs": [],
   "source": [
    "fam = c(1,5,23,24,26)\n",
    "names(fam) = c(\"Gaussian\", \"Frank\", \"Clayton\",\"Gumbel\",\"Joe\")\n",
    "cop = BiCop(23, tau = -0.4)"
   ]
  },
  {
   "cell_type": "code",
   "execution_count": 9,
   "id": "05e40eb2-db2f-429b-8e31-24838eccca8e",
   "metadata": {
    "scrolled": true
   },
   "outputs": [],
   "source": [
    "lik = matrix(0,100,length(fam))\n",
    "aic = matrix(0,100,length(fam))\n",
    "bic = matrix(0,100,length(fam))\n",
    "\n",
    "for(i in 1:100){\n",
    "    set.seed(i)\n",
    "    r = BiCopSim(8000, obj = cop)\n",
    "  for(f in 1:length(fam)){\n",
    "    estcop = BiCopEst(r[,1], r[,2], fam[f])\n",
    "    lik[i,f] = estcop$logLik\n",
    "    aic[i,f] = estcop$AIC\n",
    "    bic[i,f] = estcop$BIC \n",
    "  }\n",
    "}"
   ]
  },
  {
   "cell_type": "code",
   "execution_count": 10,
   "id": "0e91059c-2bd4-4bc6-90ee-c4cc54f99542",
   "metadata": {},
   "outputs": [
    {
     "data": {
      "text/html": [
       "<table class=\"dataframe\">\n",
       "<caption>A matrix: 5 × 2 of type dbl</caption>\n",
       "<tbody>\n",
       "\t<tr><td>1615.157</td><td>57.301</td></tr>\n",
       "\t<tr><td>1524.409</td><td>53.864</td></tr>\n",
       "\t<tr><td>2194.153</td><td>71.345</td></tr>\n",
       "\t<tr><td>1090.186</td><td>50.598</td></tr>\n",
       "\t<tr><td> 501.012</td><td>35.078</td></tr>\n",
       "</tbody>\n",
       "</table>\n"
      ],
      "text/latex": [
       "A matrix: 5 × 2 of type dbl\n",
       "\\begin{tabular}{ll}\n",
       "\t 1615.157 & 57.301\\\\\n",
       "\t 1524.409 & 53.864\\\\\n",
       "\t 2194.153 & 71.345\\\\\n",
       "\t 1090.186 & 50.598\\\\\n",
       "\t  501.012 & 35.078\\\\\n",
       "\\end{tabular}\n"
      ],
      "text/markdown": [
       "\n",
       "A matrix: 5 × 2 of type dbl\n",
       "\n",
       "| 1615.157 | 57.301 |\n",
       "| 1524.409 | 53.864 |\n",
       "| 2194.153 | 71.345 |\n",
       "| 1090.186 | 50.598 |\n",
       "|  501.012 | 35.078 |\n",
       "\n"
      ],
      "text/plain": [
       "     [,1]     [,2]  \n",
       "[1,] 1615.157 57.301\n",
       "[2,] 1524.409 53.864\n",
       "[3,] 2194.153 71.345\n",
       "[4,] 1090.186 50.598\n",
       "[5,]  501.012 35.078"
      ]
     },
     "metadata": {},
     "output_type": "display_data"
    },
    {
     "data": {
      "text/html": [
       "<table class=\"dataframe\">\n",
       "<caption>A matrix: 5 × 2 of type dbl</caption>\n",
       "<tbody>\n",
       "\t<tr><td>-3228.315</td><td>114.602</td></tr>\n",
       "\t<tr><td>-3046.818</td><td>107.729</td></tr>\n",
       "\t<tr><td>-4386.307</td><td>142.690</td></tr>\n",
       "\t<tr><td>-2178.372</td><td>101.197</td></tr>\n",
       "\t<tr><td>-1000.024</td><td> 70.156</td></tr>\n",
       "</tbody>\n",
       "</table>\n"
      ],
      "text/latex": [
       "A matrix: 5 × 2 of type dbl\n",
       "\\begin{tabular}{ll}\n",
       "\t -3228.315 & 114.602\\\\\n",
       "\t -3046.818 & 107.729\\\\\n",
       "\t -4386.307 & 142.690\\\\\n",
       "\t -2178.372 & 101.197\\\\\n",
       "\t -1000.024 &  70.156\\\\\n",
       "\\end{tabular}\n"
      ],
      "text/markdown": [
       "\n",
       "A matrix: 5 × 2 of type dbl\n",
       "\n",
       "| -3228.315 | 114.602 |\n",
       "| -3046.818 | 107.729 |\n",
       "| -4386.307 | 142.690 |\n",
       "| -2178.372 | 101.197 |\n",
       "| -1000.024 |  70.156 |\n",
       "\n"
      ],
      "text/plain": [
       "     [,1]      [,2]   \n",
       "[1,] -3228.315 114.602\n",
       "[2,] -3046.818 107.729\n",
       "[3,] -4386.307 142.690\n",
       "[4,] -2178.372 101.197\n",
       "[5,] -1000.024  70.156"
      ]
     },
     "metadata": {},
     "output_type": "display_data"
    },
    {
     "data": {
      "text/html": [
       "<table class=\"dataframe\">\n",
       "<caption>A matrix: 5 × 2 of type dbl</caption>\n",
       "<tbody>\n",
       "\t<tr><td>-3221.328</td><td>114.602</td></tr>\n",
       "\t<tr><td>-3039.830</td><td>107.729</td></tr>\n",
       "\t<tr><td>-4379.320</td><td>142.690</td></tr>\n",
       "\t<tr><td>-2171.385</td><td>101.197</td></tr>\n",
       "\t<tr><td> -993.037</td><td> 70.156</td></tr>\n",
       "</tbody>\n",
       "</table>\n"
      ],
      "text/latex": [
       "A matrix: 5 × 2 of type dbl\n",
       "\\begin{tabular}{ll}\n",
       "\t -3221.328 & 114.602\\\\\n",
       "\t -3039.830 & 107.729\\\\\n",
       "\t -4379.320 & 142.690\\\\\n",
       "\t -2171.385 & 101.197\\\\\n",
       "\t  -993.037 &  70.156\\\\\n",
       "\\end{tabular}\n"
      ],
      "text/markdown": [
       "\n",
       "A matrix: 5 × 2 of type dbl\n",
       "\n",
       "| -3221.328 | 114.602 |\n",
       "| -3039.830 | 107.729 |\n",
       "| -4379.320 | 142.690 |\n",
       "| -2171.385 | 101.197 |\n",
       "|  -993.037 |  70.156 |\n",
       "\n"
      ],
      "text/plain": [
       "     [,1]      [,2]   \n",
       "[1,] -3221.328 114.602\n",
       "[2,] -3039.830 107.729\n",
       "[3,] -4379.320 142.690\n",
       "[4,] -2171.385 101.197\n",
       "[5,]  -993.037  70.156"
      ]
     },
     "metadata": {},
     "output_type": "display_data"
    }
   ],
   "source": [
    "t(round(apply(lik, 2, function(x) c(mean(x), sd(x))),3))\n",
    "t(round(apply(aic, 2, function(x) c(mean(x), sd(x))),3))\n",
    "t(round(apply(bic, 2, function(x) c(mean(x), sd(x))),3))"
   ]
  },
  {
   "cell_type": "code",
   "execution_count": 11,
   "id": "3a10b020-ecd8-4eeb-9735-53bdada1e546",
   "metadata": {},
   "outputs": [
    {
     "data": {
      "text/plain": [
       "\n",
       "  3 \n",
       "100 "
      ]
     },
     "metadata": {},
     "output_type": "display_data"
    },
    {
     "data": {
      "text/plain": [
       "\n",
       "  3 \n",
       "100 "
      ]
     },
     "metadata": {},
     "output_type": "display_data"
    },
    {
     "data": {
      "text/plain": [
       "\n",
       "  3 \n",
       "100 "
      ]
     },
     "metadata": {},
     "output_type": "display_data"
    }
   ],
   "source": [
    "table(apply(lik, 1, which.max))\n",
    "table(apply(aic, 1, which.min))\n",
    "table(apply(bic, 1, which.min))"
   ]
  },
  {
   "cell_type": "markdown",
   "id": "55e6bf7a-78e0-4f8c-b7bd-7ab719386e17",
   "metadata": {
    "scrolled": true
   },
   "source": [
    "#### **Table S2** The Log-likelihood, AIC, BIC of Gaussian, Frank, Clayton, Gumbel, BB6, BB7 and Joe copulas with set4∆ dataset"
   ]
  },
  {
   "cell_type": "code",
   "execution_count": 12,
   "id": "6f6ad3e2-271c-4e7f-b1b3-fb5d59e8a61c",
   "metadata": {},
   "outputs": [
    {
     "data": {
      "text/html": [
       "<table class=\"dataframe\">\n",
       "<caption>A data.frame: 5 × 4</caption>\n",
       "<thead>\n",
       "\t<tr><th scope=col>family</th><th scope=col>logLik</th><th scope=col>AIC</th><th scope=col>BIC</th></tr>\n",
       "\t<tr><th scope=col>&lt;chr&gt;</th><th scope=col>&lt;dbl&gt;</th><th scope=col>&lt;dbl&gt;</th><th scope=col>&lt;dbl&gt;</th></tr>\n",
       "</thead>\n",
       "<tbody>\n",
       "\t<tr><td>Gaussian</td><td>1578.79</td><td>-3155.57</td><td>-3148.56</td></tr>\n",
       "\t<tr><td>Frank   </td><td>1486.99</td><td>-2971.97</td><td>-2964.96</td></tr>\n",
       "\t<tr><td>Clayton </td><td> 836.13</td><td>-1670.25</td><td>-1663.24</td></tr>\n",
       "\t<tr><td>Gumbel  </td><td>1199.29</td><td>-2396.58</td><td>-2389.56</td></tr>\n",
       "\t<tr><td>Joe     </td><td> 486.19</td><td> -970.38</td><td> -963.37</td></tr>\n",
       "</tbody>\n",
       "</table>\n"
      ],
      "text/latex": [
       "A data.frame: 5 × 4\n",
       "\\begin{tabular}{llll}\n",
       " family & logLik & AIC & BIC\\\\\n",
       " <chr> & <dbl> & <dbl> & <dbl>\\\\\n",
       "\\hline\n",
       "\t Gaussian & 1578.79 & -3155.57 & -3148.56\\\\\n",
       "\t Frank    & 1486.99 & -2971.97 & -2964.96\\\\\n",
       "\t Clayton  &  836.13 & -1670.25 & -1663.24\\\\\n",
       "\t Gumbel   & 1199.29 & -2396.58 & -2389.56\\\\\n",
       "\t Joe      &  486.19 &  -970.38 &  -963.37\\\\\n",
       "\\end{tabular}\n"
      ],
      "text/markdown": [
       "\n",
       "A data.frame: 5 × 4\n",
       "\n",
       "| family &lt;chr&gt; | logLik &lt;dbl&gt; | AIC &lt;dbl&gt; | BIC &lt;dbl&gt; |\n",
       "|---|---|---|---|\n",
       "| Gaussian | 1578.79 | -3155.57 | -3148.56 |\n",
       "| Frank    | 1486.99 | -2971.97 | -2964.96 |\n",
       "| Clayton  |  836.13 | -1670.25 | -1663.24 |\n",
       "| Gumbel   | 1199.29 | -2396.58 | -2389.56 |\n",
       "| Joe      |  486.19 |  -970.38 |  -963.37 |\n",
       "\n"
      ],
      "text/plain": [
       "  family   logLik  AIC      BIC     \n",
       "1 Gaussian 1578.79 -3155.57 -3148.56\n",
       "2 Frank    1486.99 -2971.97 -2964.96\n",
       "3 Clayton   836.13 -1670.25 -1663.24\n",
       "4 Gumbel   1199.29 -2396.58 -2389.56\n",
       "5 Joe       486.19  -970.38  -963.37"
      ]
     },
     "metadata": {},
     "output_type": "display_data"
    }
   ],
   "source": [
    "aa = BiCopEstList(pval1_deseq, pval2, family = c(1,5,23,24,26), rotations = F)$summary\n",
    "aa$family = c(\"Gaussian\", \"Frank\", \"Clayton\",\"Gumbel\", \"Joe\")\n",
    "aa"
   ]
  }
 ],
 "metadata": {
  "kernelspec": {
   "display_name": "R",
   "language": "R",
   "name": "ir"
  },
  "language_info": {
   "codemirror_mode": "r",
   "file_extension": ".r",
   "mimetype": "text/x-r-source",
   "name": "R",
   "pygments_lexer": "r",
   "version": "4.4.3"
  }
 },
 "nbformat": 4,
 "nbformat_minor": 5
}
