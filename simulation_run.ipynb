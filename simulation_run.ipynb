{
 "cells": [
  {
   "cell_type": "markdown",
   "id": "315e4916-983a-40aa-ad70-495ad70b3c9c",
   "metadata": {},
   "source": [
    "# Simulation"
   ]
  },
  {
   "cell_type": "code",
   "execution_count": 1,
   "id": "998d1830-4e5a-46e4-b836-3085f2dac3a4",
   "metadata": {},
   "outputs": [
    {
     "name": "stderr",
     "output_type": "stream",
     "text": [
      "Loading required package: simulation_code.r\n",
      "\n",
      "Warning message in library(package, lib.loc = lib.loc, character.only = TRUE, logical.return = TRUE, :\n",
      "“there is no package called ‘simulation_code.r’”\n"
     ]
    }
   ],
   "source": [
    "require(\"simulation_code.r\")\n",
    "n = 8000"
   ]
  },
  {
   "cell_type": "markdown",
   "id": "0bad8203-f345-423d-9f19-1e7bf5455797",
   "metadata": {},
   "source": [
    "## Replicate Table 1 \n",
    "Comparison of False Discovery Rate (FDR) and True Positive Rate (TPR) across different settings for the mean parameter, $\\mu$, and Kendall's $\\tau$ coefficient."
   ]
  },
  {
   "cell_type": "markdown",
   "id": "3732da57-5812-4202-b524-ae404e8bc748",
   "metadata": {
    "jp-MarkdownHeadingCollapsed": true
   },
   "source": [
    "1. varying $\\tau$"
   ]
  },
  {
   "cell_type": "code",
   "execution_count": null,
   "id": "295d8b36-7114-4342-8bae-aeb73371eb74",
   "metadata": {},
   "outputs": [],
   "source": [
    "for(tau in c(0, 0.2,0.4, 0.6, 0.8)){\n",
    "  print(paste(c(\"now the tau is\", tau)))\n",
    "  \n",
    "  simres = array(0.0, c(2, 21, 1000) )\n",
    "  if(tau==0){\n",
    "    cop = BiCop(0)\n",
    "  }else{\n",
    "    cop = BiCop(3, tau = tau)\n",
    "  }\n",
    "  \n",
    "  for(i in 1:1000){\n",
    "    simdat = simgen(i, n, cop)\n",
    "    res = test_all(simdat)\n",
    "    simres[,,i] = res\n",
    "    if(i%%10==0) print(res[1,1:21])\n",
    "  }\n",
    "  assign(paste0(\"tau_\",tau), simres)\n",
    "}"
   ]
  },
  {
   "cell_type": "code",
   "execution_count": null,
   "id": "d459cf3e-2702-4ca0-87ed-abb5abb99471",
   "metadata": {},
   "outputs": [],
   "source": [
    "fdr_tbl = array(NA, dim = c(7,4,5))\n",
    "power_tbl = fdr_tbl\n",
    "\n",
    "i = 1\n",
    "\n",
    "for(tau in c(0,0.2,0.4,0.6,0.8)){\n",
    "  mat = get(paste0(\"tau_\",tau))\n",
    "  fdr_tbl[,,i] = fdr_and_power(mat)$fdr\n",
    "  power_tbl[,,i] = fdr_and_power(mat)$power\n",
    "  i = i+1\n",
    "}\n",
    "\n",
    "saveRDS(fdr_tbl, \"fdr_diff_tau.rds\")\n",
    "saveRDS(power_tbl, \"power_diff_tau.rds\")"
   ]
  },
  {
   "cell_type": "code",
   "execution_count": null,
   "id": "4bd9d632-d460-4092-b268-3d07dfaee0a1",
   "metadata": {},
   "outputs": [],
   "source": [
    "fdr_tbl"
   ]
  },
  {
   "cell_type": "code",
   "execution_count": null,
   "id": "09fe884f-1c3b-47ca-bdda-5ec40768a021",
   "metadata": {},
   "outputs": [],
   "source": [
    "power_tbl"
   ]
  },
  {
   "cell_type": "markdown",
   "id": "c74bb6d5-72c1-404c-98e2-8c850c567dd1",
   "metadata": {},
   "source": [
    "2. varying $\\mu$"
   ]
  },
  {
   "cell_type": "code",
   "execution_count": null,
   "id": "e29bdd9d-3a3d-4417-a434-46c69e78347a",
   "metadata": {},
   "outputs": [],
   "source": [
    "for(mm in c(2.0, 2.5, 3.0, 3.5, 4.0)){\n",
    "  print(paste(c(\"now the mu is\", mm)))\n",
    "  \n",
    "  simres = array(0.0, c(2, 21, 1000))\n",
    "  if(tau==0){\n",
    "    cop = BiCop(0)\n",
    "  }else{\n",
    "    cop = BiCop(3, tau = 0.4)\n",
    "  }\n",
    "  \n",
    "  for(i in 1:1000){\n",
    "    simdat = simgen(i, n, cop, mm=mm)\n",
    "    res = test_all(simdat)\n",
    "    simres[,,i] = res\n",
    "    if(i%%100==0) print(res[1,1:21])\n",
    "  }\n",
    "  assign(paste0(\"mm_\",mm), simres)\n",
    "}"
   ]
  },
  {
   "cell_type": "code",
   "execution_count": null,
   "id": "3fedb1f2-d5a8-48ac-9751-423b23c2fe63",
   "metadata": {},
   "outputs": [],
   "source": [
    "fdr_tbl2 = array(NA, dim = c(7,4,5))\n",
    "power_tbl2 = fdr_tbl\n",
    "\n",
    "i = 1\n",
    "\n",
    "for(mu in c(2, 2.5, 3, 3.5, 4)){\n",
    "  mat = get(paste0(\"mm_\",mu))\n",
    "  fdr_tbl2[,,i] = fdr_and_power(mat)$fdr\n",
    "  power_tbl2[,,i] = fdr_and_power(mat)$power\n",
    "  i = i+1\n",
    "}\n",
    "\n",
    "saveRDS(fdr_tbl2, \"fdr_diff_mu.rds\")\n",
    "saveRDS(power_tbl2, \"power_diff_mu.rds\")"
   ]
  },
  {
   "cell_type": "code",
   "execution_count": null,
   "id": "a5421e61-d3ea-426b-bb41-dff42da1a37b",
   "metadata": {},
   "outputs": [],
   "source": [
    "fdr_tbl2"
   ]
  },
  {
   "cell_type": "code",
   "execution_count": null,
   "id": "e7d1b8ad-c8bf-44bd-84ed-322ae818261e",
   "metadata": {},
   "outputs": [],
   "source": [
    "power_tbl2"
   ]
  },
  {
   "cell_type": "markdown",
   "id": "41d11cd7-8759-44c3-8d95-e1e2af455e39",
   "metadata": {},
   "source": [
    "## Replicate Table 2\n",
    "Comparison of False Discovery Rate (FDR) and True Positive Rate (TPR) in the Presence of Misspecified Copulas."
   ]
  },
  {
   "cell_type": "markdown",
   "id": "522946c9-0a54-4e9c-8f80-965e120565b8",
   "metadata": {},
   "source": [
    "1. Generated by Clayton Copula, fitted by BB7/BB6/Joe copula"
   ]
  },
  {
   "cell_type": "code",
   "execution_count": null,
   "id": "5390317a-3eff-4e14-aea7-94353f587278",
   "metadata": {},
   "outputs": [],
   "source": [
    "miscop = c(39, 38,36) #BB7, BB6, Joe\n",
    "for(c in miscop){\n",
    "  print(paste(c(\"now the cop is\", c)))\n",
    "  cop = BiCop(3, tau = 0.4)\n",
    "  simres = array(0.0, c(2, 21, 1000) )\n",
    "  for(i in 1:1000){\n",
    "    simdat = simgen(i, n, cop)\n",
    "    res = test_all(simdat, copnum = c)\n",
    "    simres[,,i] = res\n",
    "    if(i%%100==0) print(res[1,1:21])\n",
    "  }\n",
    "  assign(paste0(\"misfit_\",c), simres)\n",
    "}"
   ]
  },
  {
   "cell_type": "code",
   "execution_count": null,
   "id": "0fced3c2-ccbe-4c63-8e7a-1ba3fd619ec6",
   "metadata": {},
   "outputs": [],
   "source": [
    "fdr_tbl3 = array(NA, dim = c(7,4,5))\n",
    "power_tbl3 = fdr_tbl\n",
    "\n",
    "i = 1\n",
    "\n",
    "for(c in miscop){\n",
    "  mat = get(paste0(\"misfit_\",c))\n",
    "  fdr_tbl3[,,i] = fdr_and_power(mat)$fdr\n",
    "  power_tbl3[,,i] = fdr_and_power(mat)$power\n",
    "  i = i+1\n",
    "}\n",
    "\n",
    "saveRDS(fdr_tbl3, \"fdr_misfit.rds\")\n",
    "saveRDS(power_tbl3, \"power_misfit.rds\")"
   ]
  },
  {
   "cell_type": "code",
   "execution_count": null,
   "id": "c1474604-cb92-4ec5-b454-2f2bd76271ed",
   "metadata": {},
   "outputs": [],
   "source": [
    "fdr_tbl3"
   ]
  },
  {
   "cell_type": "code",
   "execution_count": null,
   "id": "401f6add-ef26-4993-80dc-fbfcc7d467b2",
   "metadata": {},
   "outputs": [],
   "source": [
    "power_tbl3"
   ]
  },
  {
   "cell_type": "markdown",
   "id": "da0551a9-b351-4c46-a5be-a148810762c7",
   "metadata": {},
   "source": [
    "2. Fitted by Clayton Copula, generated by BB7/BB6/Joe copula"
   ]
  },
  {
   "cell_type": "code",
   "execution_count": null,
   "id": "c4253f04-34f0-4228-875e-62e88d8fbb04",
   "metadata": {},
   "outputs": [],
   "source": [
    "miscop = c(39, 38,36) #BB7, BB6, Joe\n",
    "for(c in miscop){\n",
    "  print(paste(c(\"now the cop is\", c)))\n",
    "  testcop = BiCop(3, tau = 0.4)\n",
    "  simres = array(0.0, c(2, 21, 1000))\n",
    "  for(i in 1:1000){\n",
    "    set.seed(i)\n",
    "    rr = BiCopSim(n, obj = testcop)\n",
    "    cop = BiCopEst(rr[,1], rr[,2], c)\n",
    "    simdat = simgen(i, n, cop)\n",
    "    res = test_all(simdat)\n",
    "    simres[,,i] = res\n",
    "    if(i%%100==0) print(res[1,1:21])\n",
    "  }\n",
    "  assign(paste0(\"misgen_\",c), simres)\n",
    "}"
   ]
  },
  {
   "cell_type": "code",
   "execution_count": null,
   "id": "c36dd1f8-534f-482b-af98-da127da28507",
   "metadata": {},
   "outputs": [],
   "source": [
    "fdr_tbl4 = array(NA, dim = c(7,4,5))\n",
    "power_tbl4 = fdr_tbl\n",
    "\n",
    "i = 1\n",
    "\n",
    "for(c in miscop){\n",
    "  mat = get(paste0(\"misgen_\",c))\n",
    "  fdr_tbl4[,,i] = fdr_and_power(mat)$fdr\n",
    "  power_tbl4[,,i] = fdr_and_power(mat)$power\n",
    "  i = i+1\n",
    "}\n",
    "\n",
    "saveRDS(fdr_tbl4, \"fdr_misgen.rds\")\n",
    "saveRDS(power_tbl4, \"power_misgen.rds\")"
   ]
  },
  {
   "cell_type": "code",
   "execution_count": null,
   "id": "a1486d8b-ab3f-47e7-8151-7b226309ce87",
   "metadata": {},
   "outputs": [],
   "source": [
    "fdr_tbl4"
   ]
  },
  {
   "cell_type": "code",
   "execution_count": null,
   "id": "6a8bd91f-30cf-4233-ae6c-c1ffabcf9d88",
   "metadata": {},
   "outputs": [],
   "source": [
    "power_tbl4"
   ]
  }
 ],
 "metadata": {
  "kernelspec": {
   "display_name": "R",
   "language": "R",
   "name": "ir"
  },
  "language_info": {
   "codemirror_mode": "r",
   "file_extension": ".r",
   "mimetype": "text/x-r-source",
   "name": "R",
   "pygments_lexer": "r",
   "version": "4.1.2"
  }
 },
 "nbformat": 4,
 "nbformat_minor": 5
}
